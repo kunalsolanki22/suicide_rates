{
 "cells": [
  {
   "cell_type": "code",
   "execution_count": 2,
   "metadata": {},
   "outputs": [],
   "source": [
    "import numpy as np\n",
    "import pandas as pd\n",
    "import matplotlib.pyplot as plt\n",
    "import seaborn as sns"
   ]
  },
  {
   "cell_type": "code",
   "execution_count": 3,
   "metadata": {},
   "outputs": [],
   "source": [
    "data = pd.read_csv('cleaned_data.csv')\n",
    "df = pd.DataFrame(data)"
   ]
  },
  {
   "cell_type": "code",
   "execution_count": 4,
   "metadata": {},
   "outputs": [
    {
     "data": {
      "text/plain": [
       "count    118560.000000\n",
       "mean         63.383004\n",
       "std         253.628818\n",
       "min           0.000000\n",
       "25%           0.000000\n",
       "50%           4.000000\n",
       "75%          32.000000\n",
       "max        6787.000000\n",
       "Name: SuicideCount, dtype: float64"
      ]
     },
     "execution_count": 4,
     "metadata": {},
     "output_type": "execute_result"
    }
   ],
   "source": [
    "df['SuicideCount'].describe()"
   ]
  },
  {
   "cell_type": "code",
   "execution_count": 5,
   "metadata": {},
   "outputs": [
    {
     "data": {
      "text/html": [
       "<div>\n",
       "<style scoped>\n",
       "    .dataframe tbody tr th:only-of-type {\n",
       "        vertical-align: middle;\n",
       "    }\n",
       "\n",
       "    .dataframe tbody tr th {\n",
       "        vertical-align: top;\n",
       "    }\n",
       "\n",
       "    .dataframe thead th {\n",
       "        text-align: right;\n",
       "    }\n",
       "</style>\n",
       "<table border=\"1\" class=\"dataframe\">\n",
       "  <thead>\n",
       "    <tr style=\"text-align: right;\">\n",
       "      <th></th>\n",
       "      <th>index</th>\n",
       "      <th>RegionCode</th>\n",
       "      <th>RegionName</th>\n",
       "      <th>CountryCode</th>\n",
       "      <th>CountryName</th>\n",
       "      <th>Year</th>\n",
       "      <th>Sex</th>\n",
       "      <th>AgeGroup</th>\n",
       "      <th>Generation</th>\n",
       "      <th>SuicideCount</th>\n",
       "      <th>CauseSpecificDeathPercentage</th>\n",
       "      <th>DeathRatePer100K</th>\n",
       "      <th>Population</th>\n",
       "      <th>GDP</th>\n",
       "      <th>GDPPerCapita</th>\n",
       "      <th>GrossNationalIncome</th>\n",
       "      <th>GNIPerCapita</th>\n",
       "      <th>EmploymentPopulationRatio</th>\n",
       "    </tr>\n",
       "  </thead>\n",
       "  <tbody>\n",
       "    <tr>\n",
       "      <th>0</th>\n",
       "      <td>0</td>\n",
       "      <td>EU</td>\n",
       "      <td>Europe</td>\n",
       "      <td>ALB</td>\n",
       "      <td>Albania</td>\n",
       "      <td>1992</td>\n",
       "      <td>Male</td>\n",
       "      <td>0-14 years</td>\n",
       "      <td>Generation Alpha</td>\n",
       "      <td>0.0</td>\n",
       "      <td>0.000000</td>\n",
       "      <td>0.000000</td>\n",
       "      <td>3247039.0</td>\n",
       "      <td>652174990.8</td>\n",
       "      <td>200.85222</td>\n",
       "      <td>906184212.3</td>\n",
       "      <td>1740.0</td>\n",
       "      <td>45.315</td>\n",
       "    </tr>\n",
       "    <tr>\n",
       "      <th>1</th>\n",
       "      <td>4</td>\n",
       "      <td>EU</td>\n",
       "      <td>Europe</td>\n",
       "      <td>ALB</td>\n",
       "      <td>Albania</td>\n",
       "      <td>1992</td>\n",
       "      <td>Male</td>\n",
       "      <td>15-24 years</td>\n",
       "      <td>Generation Z</td>\n",
       "      <td>5.0</td>\n",
       "      <td>3.401361</td>\n",
       "      <td>3.531073</td>\n",
       "      <td>3247039.0</td>\n",
       "      <td>652174990.8</td>\n",
       "      <td>200.85222</td>\n",
       "      <td>906184212.3</td>\n",
       "      <td>1740.0</td>\n",
       "      <td>45.315</td>\n",
       "    </tr>\n",
       "    <tr>\n",
       "      <th>2</th>\n",
       "      <td>5</td>\n",
       "      <td>EU</td>\n",
       "      <td>Europe</td>\n",
       "      <td>ALB</td>\n",
       "      <td>Albania</td>\n",
       "      <td>1992</td>\n",
       "      <td>Male</td>\n",
       "      <td>15-24 years</td>\n",
       "      <td>Generation Z</td>\n",
       "      <td>4.0</td>\n",
       "      <td>1.904762</td>\n",
       "      <td>3.276003</td>\n",
       "      <td>3247039.0</td>\n",
       "      <td>652174990.8</td>\n",
       "      <td>200.85222</td>\n",
       "      <td>906184212.3</td>\n",
       "      <td>1740.0</td>\n",
       "      <td>45.315</td>\n",
       "    </tr>\n",
       "    <tr>\n",
       "      <th>3</th>\n",
       "      <td>6</td>\n",
       "      <td>EU</td>\n",
       "      <td>Europe</td>\n",
       "      <td>ALB</td>\n",
       "      <td>Albania</td>\n",
       "      <td>1992</td>\n",
       "      <td>Male</td>\n",
       "      <td>25-34 years</td>\n",
       "      <td>Millennials</td>\n",
       "      <td>3.0</td>\n",
       "      <td>1.357466</td>\n",
       "      <td>2.487562</td>\n",
       "      <td>3247039.0</td>\n",
       "      <td>652174990.8</td>\n",
       "      <td>200.85222</td>\n",
       "      <td>906184212.3</td>\n",
       "      <td>1740.0</td>\n",
       "      <td>45.315</td>\n",
       "    </tr>\n",
       "    <tr>\n",
       "      <th>4</th>\n",
       "      <td>7</td>\n",
       "      <td>EU</td>\n",
       "      <td>Europe</td>\n",
       "      <td>ALB</td>\n",
       "      <td>Albania</td>\n",
       "      <td>1992</td>\n",
       "      <td>Male</td>\n",
       "      <td>25-34 years</td>\n",
       "      <td>Millennials</td>\n",
       "      <td>4.0</td>\n",
       "      <td>2.094241</td>\n",
       "      <td>3.202562</td>\n",
       "      <td>3247039.0</td>\n",
       "      <td>652174990.8</td>\n",
       "      <td>200.85222</td>\n",
       "      <td>906184212.3</td>\n",
       "      <td>1740.0</td>\n",
       "      <td>45.315</td>\n",
       "    </tr>\n",
       "  </tbody>\n",
       "</table>\n",
       "</div>"
      ],
      "text/plain": [
       "   index RegionCode RegionName CountryCode CountryName  Year   Sex  \\\n",
       "0      0         EU     Europe         ALB     Albania  1992  Male   \n",
       "1      4         EU     Europe         ALB     Albania  1992  Male   \n",
       "2      5         EU     Europe         ALB     Albania  1992  Male   \n",
       "3      6         EU     Europe         ALB     Albania  1992  Male   \n",
       "4      7         EU     Europe         ALB     Albania  1992  Male   \n",
       "\n",
       "      AgeGroup        Generation  SuicideCount  CauseSpecificDeathPercentage  \\\n",
       "0   0-14 years  Generation Alpha           0.0                      0.000000   \n",
       "1  15-24 years      Generation Z           5.0                      3.401361   \n",
       "2  15-24 years      Generation Z           4.0                      1.904762   \n",
       "3  25-34 years       Millennials           3.0                      1.357466   \n",
       "4  25-34 years       Millennials           4.0                      2.094241   \n",
       "\n",
       "   DeathRatePer100K  Population          GDP  GDPPerCapita  \\\n",
       "0          0.000000   3247039.0  652174990.8     200.85222   \n",
       "1          3.531073   3247039.0  652174990.8     200.85222   \n",
       "2          3.276003   3247039.0  652174990.8     200.85222   \n",
       "3          2.487562   3247039.0  652174990.8     200.85222   \n",
       "4          3.202562   3247039.0  652174990.8     200.85222   \n",
       "\n",
       "   GrossNationalIncome  GNIPerCapita  EmploymentPopulationRatio  \n",
       "0          906184212.3        1740.0                     45.315  \n",
       "1          906184212.3        1740.0                     45.315  \n",
       "2          906184212.3        1740.0                     45.315  \n",
       "3          906184212.3        1740.0                     45.315  \n",
       "4          906184212.3        1740.0                     45.315  "
      ]
     },
     "execution_count": 5,
     "metadata": {},
     "output_type": "execute_result"
    }
   ],
   "source": [
    "df.drop_duplicates(inplace=True)\n",
    "df.reset_index(inplace=True)\n",
    "df.head()"
   ]
  },
  {
   "cell_type": "code",
   "execution_count": 6,
   "metadata": {},
   "outputs": [
    {
     "data": {
      "text/html": [
       "<div>\n",
       "<style scoped>\n",
       "    .dataframe tbody tr th:only-of-type {\n",
       "        vertical-align: middle;\n",
       "    }\n",
       "\n",
       "    .dataframe tbody tr th {\n",
       "        vertical-align: top;\n",
       "    }\n",
       "\n",
       "    .dataframe thead th {\n",
       "        text-align: right;\n",
       "    }\n",
       "</style>\n",
       "<table border=\"1\" class=\"dataframe\">\n",
       "  <thead>\n",
       "    <tr style=\"text-align: right;\">\n",
       "      <th></th>\n",
       "      <th>index</th>\n",
       "      <th>RegionCode</th>\n",
       "      <th>RegionName</th>\n",
       "      <th>CountryCode</th>\n",
       "      <th>CountryName</th>\n",
       "      <th>Year</th>\n",
       "      <th>Sex</th>\n",
       "      <th>AgeGroup</th>\n",
       "      <th>Generation</th>\n",
       "      <th>SuicideCount</th>\n",
       "      <th>CauseSpecificDeathPercentage</th>\n",
       "      <th>DeathRatePer100K</th>\n",
       "      <th>Population</th>\n",
       "      <th>GDP</th>\n",
       "      <th>GDPPerCapita</th>\n",
       "      <th>GrossNationalIncome</th>\n",
       "      <th>GNIPerCapita</th>\n",
       "      <th>EmploymentPopulationRatio</th>\n",
       "    </tr>\n",
       "  </thead>\n",
       "  <tbody>\n",
       "    <tr>\n",
       "      <th>0</th>\n",
       "      <td>0</td>\n",
       "      <td>EU</td>\n",
       "      <td>Europe</td>\n",
       "      <td>ALB</td>\n",
       "      <td>Albania</td>\n",
       "      <td>1992</td>\n",
       "      <td>Male</td>\n",
       "      <td>0-14 years</td>\n",
       "      <td>Generation Alpha</td>\n",
       "      <td>0.0</td>\n",
       "      <td>0.000000</td>\n",
       "      <td>0.000000</td>\n",
       "      <td>3247039.0</td>\n",
       "      <td>652174990.8</td>\n",
       "      <td>200.85222</td>\n",
       "      <td>906184212.3</td>\n",
       "      <td>1740.0</td>\n",
       "      <td>45.315</td>\n",
       "    </tr>\n",
       "    <tr>\n",
       "      <th>1</th>\n",
       "      <td>4</td>\n",
       "      <td>EU</td>\n",
       "      <td>Europe</td>\n",
       "      <td>ALB</td>\n",
       "      <td>Albania</td>\n",
       "      <td>1992</td>\n",
       "      <td>Male</td>\n",
       "      <td>15-24 years</td>\n",
       "      <td>Generation Z</td>\n",
       "      <td>5.0</td>\n",
       "      <td>3.401361</td>\n",
       "      <td>3.531073</td>\n",
       "      <td>3247039.0</td>\n",
       "      <td>652174990.8</td>\n",
       "      <td>200.85222</td>\n",
       "      <td>906184212.3</td>\n",
       "      <td>1740.0</td>\n",
       "      <td>45.315</td>\n",
       "    </tr>\n",
       "    <tr>\n",
       "      <th>2</th>\n",
       "      <td>5</td>\n",
       "      <td>EU</td>\n",
       "      <td>Europe</td>\n",
       "      <td>ALB</td>\n",
       "      <td>Albania</td>\n",
       "      <td>1992</td>\n",
       "      <td>Male</td>\n",
       "      <td>15-24 years</td>\n",
       "      <td>Generation Z</td>\n",
       "      <td>4.0</td>\n",
       "      <td>1.904762</td>\n",
       "      <td>3.276003</td>\n",
       "      <td>3247039.0</td>\n",
       "      <td>652174990.8</td>\n",
       "      <td>200.85222</td>\n",
       "      <td>906184212.3</td>\n",
       "      <td>1740.0</td>\n",
       "      <td>45.315</td>\n",
       "    </tr>\n",
       "    <tr>\n",
       "      <th>3</th>\n",
       "      <td>6</td>\n",
       "      <td>EU</td>\n",
       "      <td>Europe</td>\n",
       "      <td>ALB</td>\n",
       "      <td>Albania</td>\n",
       "      <td>1992</td>\n",
       "      <td>Male</td>\n",
       "      <td>25-34 years</td>\n",
       "      <td>Millennials</td>\n",
       "      <td>3.0</td>\n",
       "      <td>1.357466</td>\n",
       "      <td>2.487562</td>\n",
       "      <td>3247039.0</td>\n",
       "      <td>652174990.8</td>\n",
       "      <td>200.85222</td>\n",
       "      <td>906184212.3</td>\n",
       "      <td>1740.0</td>\n",
       "      <td>45.315</td>\n",
       "    </tr>\n",
       "    <tr>\n",
       "      <th>4</th>\n",
       "      <td>7</td>\n",
       "      <td>EU</td>\n",
       "      <td>Europe</td>\n",
       "      <td>ALB</td>\n",
       "      <td>Albania</td>\n",
       "      <td>1992</td>\n",
       "      <td>Male</td>\n",
       "      <td>25-34 years</td>\n",
       "      <td>Millennials</td>\n",
       "      <td>4.0</td>\n",
       "      <td>2.094241</td>\n",
       "      <td>3.202562</td>\n",
       "      <td>3247039.0</td>\n",
       "      <td>652174990.8</td>\n",
       "      <td>200.85222</td>\n",
       "      <td>906184212.3</td>\n",
       "      <td>1740.0</td>\n",
       "      <td>45.315</td>\n",
       "    </tr>\n",
       "  </tbody>\n",
       "</table>\n",
       "</div>"
      ],
      "text/plain": [
       "   index RegionCode RegionName CountryCode CountryName  Year   Sex  \\\n",
       "0      0         EU     Europe         ALB     Albania  1992  Male   \n",
       "1      4         EU     Europe         ALB     Albania  1992  Male   \n",
       "2      5         EU     Europe         ALB     Albania  1992  Male   \n",
       "3      6         EU     Europe         ALB     Albania  1992  Male   \n",
       "4      7         EU     Europe         ALB     Albania  1992  Male   \n",
       "\n",
       "      AgeGroup        Generation  SuicideCount  CauseSpecificDeathPercentage  \\\n",
       "0   0-14 years  Generation Alpha           0.0                      0.000000   \n",
       "1  15-24 years      Generation Z           5.0                      3.401361   \n",
       "2  15-24 years      Generation Z           4.0                      1.904762   \n",
       "3  25-34 years       Millennials           3.0                      1.357466   \n",
       "4  25-34 years       Millennials           4.0                      2.094241   \n",
       "\n",
       "   DeathRatePer100K  Population          GDP  GDPPerCapita  \\\n",
       "0          0.000000   3247039.0  652174990.8     200.85222   \n",
       "1          3.531073   3247039.0  652174990.8     200.85222   \n",
       "2          3.276003   3247039.0  652174990.8     200.85222   \n",
       "3          2.487562   3247039.0  652174990.8     200.85222   \n",
       "4          3.202562   3247039.0  652174990.8     200.85222   \n",
       "\n",
       "   GrossNationalIncome  GNIPerCapita  EmploymentPopulationRatio  \n",
       "0          906184212.3        1740.0                     45.315  \n",
       "1          906184212.3        1740.0                     45.315  \n",
       "2          906184212.3        1740.0                     45.315  \n",
       "3          906184212.3        1740.0                     45.315  \n",
       "4          906184212.3        1740.0                     45.315  "
      ]
     },
     "execution_count": 6,
     "metadata": {},
     "output_type": "execute_result"
    }
   ],
   "source": [
    "df.head()"
   ]
  },
  {
   "cell_type": "code",
   "execution_count": 7,
   "metadata": {},
   "outputs": [],
   "source": [
    "df_yearly = df.groupby(by='Year')['SuicideCount'].count().reset_index(name=\"TotalSuicides\")\n"
   ]
  },
  {
   "cell_type": "code",
   "execution_count": 8,
   "metadata": {},
   "outputs": [
    {
     "data": {
      "text/html": [
       "<div>\n",
       "<style scoped>\n",
       "    .dataframe tbody tr th:only-of-type {\n",
       "        vertical-align: middle;\n",
       "    }\n",
       "\n",
       "    .dataframe tbody tr th {\n",
       "        vertical-align: top;\n",
       "    }\n",
       "\n",
       "    .dataframe thead th {\n",
       "        text-align: right;\n",
       "    }\n",
       "</style>\n",
       "<table border=\"1\" class=\"dataframe\">\n",
       "  <thead>\n",
       "    <tr style=\"text-align: right;\">\n",
       "      <th></th>\n",
       "      <th>Year</th>\n",
       "      <th>TotalSuicides</th>\n",
       "    </tr>\n",
       "  </thead>\n",
       "  <tbody>\n",
       "    <tr>\n",
       "      <th>0</th>\n",
       "      <td>1990</td>\n",
       "      <td>3078</td>\n",
       "    </tr>\n",
       "    <tr>\n",
       "      <th>1</th>\n",
       "      <td>1991</td>\n",
       "      <td>2517</td>\n",
       "    </tr>\n",
       "    <tr>\n",
       "      <th>2</th>\n",
       "      <td>1992</td>\n",
       "      <td>2619</td>\n",
       "    </tr>\n",
       "    <tr>\n",
       "      <th>3</th>\n",
       "      <td>1993</td>\n",
       "      <td>2611</td>\n",
       "    </tr>\n",
       "    <tr>\n",
       "      <th>4</th>\n",
       "      <td>1994</td>\n",
       "      <td>2635</td>\n",
       "    </tr>\n",
       "  </tbody>\n",
       "</table>\n",
       "</div>"
      ],
      "text/plain": [
       "   Year  TotalSuicides\n",
       "0  1990           3078\n",
       "1  1991           2517\n",
       "2  1992           2619\n",
       "3  1993           2611\n",
       "4  1994           2635"
      ]
     },
     "execution_count": 8,
     "metadata": {},
     "output_type": "execute_result"
    }
   ],
   "source": [
    "df_yearly.head()"
   ]
  },
  {
   "cell_type": "code",
   "execution_count": 9,
   "metadata": {},
   "outputs": [],
   "source": [
    "import ast\n",
    "df_yearly['Year'] = df_yearly['Year'].apply(lambda x : str(x))"
   ]
  },
  {
   "cell_type": "code",
   "execution_count": 10,
   "metadata": {},
   "outputs": [
    {
     "data": {
      "image/png": "[encoded data removed]",
      "text/plain": [
       "<Figure size 1200x400 with 1 Axes>"
      ]
     },
     "metadata": {},
     "output_type": "display_data"
    }
   ],
   "source": [
    "\n",
    "sns.set_style(\"ticks\")  # Options: \"darkgrid\", \"whitegrid\", \"dark\", \"white\", \"ticks\"\n",
    "\n",
    "plt.figure(figsize=(12,4))\n",
    "\n",
    "\n",
    "sns.barplot(x=df_yearly['Year'], y=df_yearly[\"TotalSuicides\"]) \n",
    "\n",
    "plt.xlabel(\"Year\")\n",
    "plt.ylabel(\"Total Suicides\")\n",
    "plt.title(\"Yearly Suicide Count\", fontsize=16)\n",
    "\n",
    "plt.xticks(rotation=45)\n",
    "\n",
    "sns.despine()\n",
    "plt.show()\n"
   ]
  },
  {
   "cell_type": "code",
   "execution_count": 11,
   "metadata": {},
   "outputs": [],
   "source": [
    "df_age_group = df.groupby(by='AgeGroup')['SuicideCount'].count().reset_index(name=\"TotalSuicides\")\n",
    "df_age_group.drop(index=6, inplace=True)\n"
   ]
  },
  {
   "cell_type": "code",
   "execution_count": 12,
   "metadata": {},
   "outputs": [
    {
     "data": {
      "image/png": "[encoded data removed]",
      "text/plain": [
       "<Figure size 600x400 with 1 Axes>"
      ]
     },
     "metadata": {},
     "output_type": "display_data"
    }
   ],
   "source": [
    "sns.set_style('ticks')\n",
    "plt.figure(figsize=(6,4))\n",
    "sns.barplot(x=df_age_group['AgeGroup'], y=df_age_group['TotalSuicides'])\n",
    "\n",
    "plt.xlabel('Age Group')\n",
    "plt.ylabel('Total Count')\n",
    "plt.title('Suicide Count in different Age Groups')\n",
    "plt.xticks(rotation=45, ha='right')\n",
    "sns.despine()\n",
    "plt.show()"
   ]
  },
  {
   "cell_type": "markdown",
   "metadata": {},
   "source": [
    "Gender-wise comparision"
   ]
  },
  {
   "cell_type": "code",
   "execution_count": 13,
   "metadata": {},
   "outputs": [
    {
     "data": {
      "text/html": [
       "<div>\n",
       "<style scoped>\n",
       "    .dataframe tbody tr th:only-of-type {\n",
       "        vertical-align: middle;\n",
       "    }\n",
       "\n",
       "    .dataframe tbody tr th {\n",
       "        vertical-align: top;\n",
       "    }\n",
       "\n",
       "    .dataframe thead th {\n",
       "        text-align: right;\n",
       "    }\n",
       "</style>\n",
       "<table border=\"1\" class=\"dataframe\">\n",
       "  <thead>\n",
       "    <tr style=\"text-align: right;\">\n",
       "      <th></th>\n",
       "      <th>Sex</th>\n",
       "      <th>TotalCounts</th>\n",
       "    </tr>\n",
       "  </thead>\n",
       "  <tbody>\n",
       "    <tr>\n",
       "      <th>0</th>\n",
       "      <td>Female</td>\n",
       "      <td>46898</td>\n",
       "    </tr>\n",
       "    <tr>\n",
       "      <th>1</th>\n",
       "      <td>Male</td>\n",
       "      <td>49454</td>\n",
       "    </tr>\n",
       "    <tr>\n",
       "      <th>2</th>\n",
       "      <td>Unknown</td>\n",
       "      <td>987</td>\n",
       "    </tr>\n",
       "  </tbody>\n",
       "</table>\n",
       "</div>"
      ],
      "text/plain": [
       "       Sex  TotalCounts\n",
       "0   Female        46898\n",
       "1     Male        49454\n",
       "2  Unknown          987"
      ]
     },
     "execution_count": 13,
     "metadata": {},
     "output_type": "execute_result"
    }
   ],
   "source": [
    "df_gender = df.groupby('Sex')['DeathRatePer100K'].count().to_frame(name=\"TotalCounts\").reset_index()\n",
    "df_gender "
   ]
  },
  {
   "cell_type": "code",
   "execution_count": 14,
   "metadata": {},
   "outputs": [
    {
     "data": {
      "image/png": "[encoded data removed]",
      "text/plain": [
       "<Figure size 800x600 with 1 Axes>"
      ]
     },
     "metadata": {},
     "output_type": "display_data"
    }
   ],
   "source": [
    "plt.figure(figsize=(8,6))\n",
    "\n",
    "sns.boxplot(x=\"Sex\", y=\"DeathRatePer100K\", hue=\"AgeGroup\", data=df, palette=\"coolwarm\")\n",
    "\n",
    "# Labels and title\n",
    "plt.xlabel(\"Gender\", fontsize=14)\n",
    "plt.ylabel(\"Suicide Rate (per 100K)\", fontsize=14)\n",
    "plt.title(\"Comparison of Suicide Rates Between Males and Females\", fontsize=16, fontweight='bold')\n",
    "\n",
    "sns.despine()\n",
    "plt.show()"
   ]
  },
  {
   "cell_type": "markdown",
   "metadata": {},
   "source": [
    "Suicide Rate of different countries over time"
   ]
  },
  {
   "cell_type": "code",
   "execution_count": 15,
   "metadata": {},
   "outputs": [],
   "source": [
    "top_5 = df.groupby('CountryName')['DeathRatePer100K'].mean().nlargest(5).index\n"
   ]
  },
  {
   "cell_type": "code",
   "execution_count": 16,
   "metadata": {},
   "outputs": [
    {
     "data": {
      "text/html": [
       "<div>\n",
       "<style scoped>\n",
       "    .dataframe tbody tr th:only-of-type {\n",
       "        vertical-align: middle;\n",
       "    }\n",
       "\n",
       "    .dataframe tbody tr th {\n",
       "        vertical-align: top;\n",
       "    }\n",
       "\n",
       "    .dataframe thead th {\n",
       "        text-align: right;\n",
       "    }\n",
       "</style>\n",
       "<table border=\"1\" class=\"dataframe\">\n",
       "  <thead>\n",
       "    <tr style=\"text-align: right;\">\n",
       "      <th>CountryName</th>\n",
       "      <th>Belarus</th>\n",
       "      <th>Hungary</th>\n",
       "      <th>Latvia</th>\n",
       "      <th>Lithuania</th>\n",
       "      <th>Russian Federation</th>\n",
       "    </tr>\n",
       "    <tr>\n",
       "      <th>Year</th>\n",
       "      <th></th>\n",
       "      <th></th>\n",
       "      <th></th>\n",
       "      <th></th>\n",
       "      <th></th>\n",
       "    </tr>\n",
       "  </thead>\n",
       "  <tbody>\n",
       "    <tr>\n",
       "      <th>1990</th>\n",
       "      <td>23.157474</td>\n",
       "      <td>53.296208</td>\n",
       "      <td>32.733936</td>\n",
       "      <td>29.452471</td>\n",
       "      <td>33.128823</td>\n",
       "    </tr>\n",
       "    <tr>\n",
       "      <th>1991</th>\n",
       "      <td>27.885147</td>\n",
       "      <td>55.280522</td>\n",
       "      <td>40.004685</td>\n",
       "      <td>36.779241</td>\n",
       "      <td>34.481283</td>\n",
       "    </tr>\n",
       "    <tr>\n",
       "      <th>1992</th>\n",
       "      <td>28.146885</td>\n",
       "      <td>54.427896</td>\n",
       "      <td>43.631999</td>\n",
       "      <td>42.134591</td>\n",
       "      <td>37.577390</td>\n",
       "    </tr>\n",
       "    <tr>\n",
       "      <th>1993</th>\n",
       "      <td>34.065626</td>\n",
       "      <td>50.922185</td>\n",
       "      <td>52.825063</td>\n",
       "      <td>50.613567</td>\n",
       "      <td>44.482779</td>\n",
       "    </tr>\n",
       "    <tr>\n",
       "      <th>1994</th>\n",
       "      <td>36.296643</td>\n",
       "      <td>50.291293</td>\n",
       "      <td>49.561972</td>\n",
       "      <td>55.324166</td>\n",
       "      <td>48.118145</td>\n",
       "    </tr>\n",
       "    <tr>\n",
       "      <th>1995</th>\n",
       "      <td>36.861988</td>\n",
       "      <td>48.751209</td>\n",
       "      <td>50.464973</td>\n",
       "      <td>56.429211</td>\n",
       "      <td>46.250679</td>\n",
       "    </tr>\n",
       "    <tr>\n",
       "      <th>1996</th>\n",
       "      <td>41.557811</td>\n",
       "      <td>46.750910</td>\n",
       "      <td>46.848540</td>\n",
       "      <td>55.420900</td>\n",
       "      <td>44.320595</td>\n",
       "    </tr>\n",
       "    <tr>\n",
       "      <th>1997</th>\n",
       "      <td>41.033977</td>\n",
       "      <td>46.411109</td>\n",
       "      <td>45.547118</td>\n",
       "      <td>52.503734</td>\n",
       "      <td>42.776910</td>\n",
       "    </tr>\n",
       "    <tr>\n",
       "      <th>1998</th>\n",
       "      <td>42.558990</td>\n",
       "      <td>44.029710</td>\n",
       "      <td>40.708766</td>\n",
       "      <td>53.103633</td>\n",
       "      <td>40.208914</td>\n",
       "    </tr>\n",
       "    <tr>\n",
       "      <th>1999</th>\n",
       "      <td>41.061053</td>\n",
       "      <td>46.841344</td>\n",
       "      <td>41.109383</td>\n",
       "      <td>50.987034</td>\n",
       "      <td>43.523887</td>\n",
       "    </tr>\n",
       "    <tr>\n",
       "      <th>2000</th>\n",
       "      <td>41.404510</td>\n",
       "      <td>45.535127</td>\n",
       "      <td>42.364539</td>\n",
       "      <td>53.869012</td>\n",
       "      <td>42.831552</td>\n",
       "    </tr>\n",
       "    <tr>\n",
       "      <th>2001</th>\n",
       "      <td>38.799490</td>\n",
       "      <td>40.730839</td>\n",
       "      <td>36.465725</td>\n",
       "      <td>52.079243</td>\n",
       "      <td>42.454513</td>\n",
       "    </tr>\n",
       "    <tr>\n",
       "      <th>2002</th>\n",
       "      <td>38.591861</td>\n",
       "      <td>37.833464</td>\n",
       "      <td>36.175789</td>\n",
       "      <td>50.742926</td>\n",
       "      <td>40.942322</td>\n",
       "    </tr>\n",
       "    <tr>\n",
       "      <th>2003</th>\n",
       "      <td>40.641989</td>\n",
       "      <td>38.161820</td>\n",
       "      <td>34.211439</td>\n",
       "      <td>48.837408</td>\n",
       "      <td>39.685668</td>\n",
       "    </tr>\n",
       "    <tr>\n",
       "      <th>2004</th>\n",
       "      <td>NaN</td>\n",
       "      <td>36.092008</td>\n",
       "      <td>30.407499</td>\n",
       "      <td>47.351398</td>\n",
       "      <td>37.419780</td>\n",
       "    </tr>\n",
       "    <tr>\n",
       "      <th>2005</th>\n",
       "      <td>NaN</td>\n",
       "      <td>35.587452</td>\n",
       "      <td>29.139337</td>\n",
       "      <td>44.654254</td>\n",
       "      <td>34.616901</td>\n",
       "    </tr>\n",
       "    <tr>\n",
       "      <th>2006</th>\n",
       "      <td>NaN</td>\n",
       "      <td>30.577169</td>\n",
       "      <td>28.787373</td>\n",
       "      <td>36.701575</td>\n",
       "      <td>33.517828</td>\n",
       "    </tr>\n",
       "    <tr>\n",
       "      <th>2007</th>\n",
       "      <td>32.381296</td>\n",
       "      <td>33.071627</td>\n",
       "      <td>28.516068</td>\n",
       "      <td>36.608127</td>\n",
       "      <td>32.491075</td>\n",
       "    </tr>\n",
       "    <tr>\n",
       "      <th>2008</th>\n",
       "      <td>32.237399</td>\n",
       "      <td>33.346518</td>\n",
       "      <td>29.561227</td>\n",
       "      <td>39.660786</td>\n",
       "      <td>29.958950</td>\n",
       "    </tr>\n",
       "    <tr>\n",
       "      <th>2009</th>\n",
       "      <td>33.637662</td>\n",
       "      <td>30.258463</td>\n",
       "      <td>30.377880</td>\n",
       "      <td>39.502402</td>\n",
       "      <td>28.564505</td>\n",
       "    </tr>\n",
       "    <tr>\n",
       "      <th>2010</th>\n",
       "      <td>29.308413</td>\n",
       "      <td>30.885469</td>\n",
       "      <td>26.632037</td>\n",
       "      <td>35.777649</td>\n",
       "      <td>26.695067</td>\n",
       "    </tr>\n",
       "    <tr>\n",
       "      <th>2011</th>\n",
       "      <td>26.154164</td>\n",
       "      <td>29.225849</td>\n",
       "      <td>28.740349</td>\n",
       "      <td>37.754297</td>\n",
       "      <td>24.464913</td>\n",
       "    </tr>\n",
       "    <tr>\n",
       "      <th>2012</th>\n",
       "      <td>NaN</td>\n",
       "      <td>30.725374</td>\n",
       "      <td>25.957449</td>\n",
       "      <td>35.374732</td>\n",
       "      <td>23.472947</td>\n",
       "    </tr>\n",
       "    <tr>\n",
       "      <th>2013</th>\n",
       "      <td>24.844903</td>\n",
       "      <td>26.861414</td>\n",
       "      <td>23.070366</td>\n",
       "      <td>39.775802</td>\n",
       "      <td>22.821313</td>\n",
       "    </tr>\n",
       "    <tr>\n",
       "      <th>2014</th>\n",
       "      <td>23.594881</td>\n",
       "      <td>24.471444</td>\n",
       "      <td>24.062375</td>\n",
       "      <td>35.677472</td>\n",
       "      <td>22.456354</td>\n",
       "    </tr>\n",
       "    <tr>\n",
       "      <th>2015</th>\n",
       "      <td>NaN</td>\n",
       "      <td>24.658045</td>\n",
       "      <td>24.410817</td>\n",
       "      <td>34.861196</td>\n",
       "      <td>20.030170</td>\n",
       "    </tr>\n",
       "    <tr>\n",
       "      <th>2016</th>\n",
       "      <td>NaN</td>\n",
       "      <td>23.714537</td>\n",
       "      <td>22.590925</td>\n",
       "      <td>34.070859</td>\n",
       "      <td>19.173695</td>\n",
       "    </tr>\n",
       "    <tr>\n",
       "      <th>2017</th>\n",
       "      <td>NaN</td>\n",
       "      <td>21.713615</td>\n",
       "      <td>22.992981</td>\n",
       "      <td>29.865343</td>\n",
       "      <td>17.157042</td>\n",
       "    </tr>\n",
       "    <tr>\n",
       "      <th>2018</th>\n",
       "      <td>25.157053</td>\n",
       "      <td>22.989463</td>\n",
       "      <td>19.230233</td>\n",
       "      <td>30.590744</td>\n",
       "      <td>15.303526</td>\n",
       "    </tr>\n",
       "    <tr>\n",
       "      <th>2019</th>\n",
       "      <td>NaN</td>\n",
       "      <td>20.552637</td>\n",
       "      <td>17.299247</td>\n",
       "      <td>28.279000</td>\n",
       "      <td>14.707728</td>\n",
       "    </tr>\n",
       "    <tr>\n",
       "      <th>2020</th>\n",
       "      <td>NaN</td>\n",
       "      <td>NaN</td>\n",
       "      <td>20.882261</td>\n",
       "      <td>25.654172</td>\n",
       "      <td>NaN</td>\n",
       "    </tr>\n",
       "    <tr>\n",
       "      <th>2021</th>\n",
       "      <td>NaN</td>\n",
       "      <td>NaN</td>\n",
       "      <td>17.252134</td>\n",
       "      <td>24.579236</td>\n",
       "      <td>NaN</td>\n",
       "    </tr>\n",
       "    <tr>\n",
       "      <th>2022</th>\n",
       "      <td>NaN</td>\n",
       "      <td>21.757656</td>\n",
       "      <td>NaN</td>\n",
       "      <td>22.394796</td>\n",
       "      <td>NaN</td>\n",
       "    </tr>\n",
       "  </tbody>\n",
       "</table>\n",
       "</div>"
      ],
      "text/plain": [
       "CountryName    Belarus    Hungary     Latvia  Lithuania  Russian Federation\n",
       "Year                                                                       \n",
       "1990         23.157474  53.296208  32.733936  29.452471           33.128823\n",
       "1991         27.885147  55.280522  40.004685  36.779241           34.481283\n",
       "1992         28.146885  54.427896  43.631999  42.134591           37.577390\n",
       "1993         34.065626  50.922185  52.825063  50.613567           44.482779\n",
       "1994         36.296643  50.291293  49.561972  55.324166           48.118145\n",
       "1995         36.861988  48.751209  50.464973  56.429211           46.250679\n",
       "1996         41.557811  46.750910  46.848540  55.420900           44.320595\n",
       "1997         41.033977  46.411109  45.547118  52.503734           42.776910\n",
       "1998         42.558990  44.029710  40.708766  53.103633           40.208914\n",
       "1999         41.061053  46.841344  41.109383  50.987034           43.523887\n",
       "2000         41.404510  45.535127  42.364539  53.869012           42.831552\n",
       "2001         38.799490  40.730839  36.465725  52.079243           42.454513\n",
       "2002         38.591861  37.833464  36.175789  50.742926           40.942322\n",
       "2003         40.641989  38.161820  34.211439  48.837408           39.685668\n",
       "2004               NaN  36.092008  30.407499  47.351398           37.419780\n",
       "2005               NaN  35.587452  29.139337  44.654254           34.616901\n",
       "2006               NaN  30.577169  28.787373  36.701575           33.517828\n",
       "2007         32.381296  33.071627  28.516068  36.608127           32.491075\n",
       "2008         32.237399  33.346518  29.561227  39.660786           29.958950\n",
       "2009         33.637662  30.258463  30.377880  39.502402           28.564505\n",
       "2010         29.308413  30.885469  26.632037  35.777649           26.695067\n",
       "2011         26.154164  29.225849  28.740349  37.754297           24.464913\n",
       "2012               NaN  30.725374  25.957449  35.374732           23.472947\n",
       "2013         24.844903  26.861414  23.070366  39.775802           22.821313\n",
       "2014         23.594881  24.471444  24.062375  35.677472           22.456354\n",
       "2015               NaN  24.658045  24.410817  34.861196           20.030170\n",
       "2016               NaN  23.714537  22.590925  34.070859           19.173695\n",
       "2017               NaN  21.713615  22.992981  29.865343           17.157042\n",
       "2018         25.157053  22.989463  19.230233  30.590744           15.303526\n",
       "2019               NaN  20.552637  17.299247  28.279000           14.707728\n",
       "2020               NaN        NaN  20.882261  25.654172                 NaN\n",
       "2021               NaN        NaN  17.252134  24.579236                 NaN\n",
       "2022               NaN  21.757656        NaN  22.394796                 NaN"
      ]
     },
     "execution_count": 16,
     "metadata": {},
     "output_type": "execute_result"
    }
   ],
   "source": [
    "df_pivot = df[df['CountryName'].isin(top_5)].pivot_table(index=\"Year\", columns=\"CountryName\", values=\"DeathRatePer100K\")\n",
    "df_pivot"
   ]
  },
  {
   "cell_type": "code",
   "execution_count": 17,
   "metadata": {},
   "outputs": [
    {
     "data": {
      "image/png": "[encoded data removed]",
      "text/plain": [
       "<Figure size 1000x600 with 1 Axes>"
      ]
     },
     "metadata": {},
     "output_type": "display_data"
    }
   ],
   "source": [
    "# Select the top 5 countries with highest average suicide rate\n",
    "plt.figure(figsize=(10,6))\n",
    "sns.lineplot(data=df_pivot, marker=\"o\")\n",
    "\n",
    "plt.xlabel(\"Year\", fontsize=14)\n",
    "plt.ylabel(\"Suicide Rate (per 100K)\", fontsize=14)\n",
    "plt.title(\"Top 5 Countries: Suicide Rates Over Time\", fontsize=16, fontweight='bold')\n",
    "\n",
    "plt.xticks()\n",
    "plt.legend(title=\"Country\", bbox_to_anchor=(1.05, 1), loc='upper left')\n",
    "\n",
    "sns.despine()\n",
    "plt.show()\n"
   ]
  },
  {
   "cell_type": "markdown",
   "metadata": {},
   "source": [
    "Suicide rates across different regions over years."
   ]
  },
  {
   "cell_type": "code",
   "execution_count": 18,
   "metadata": {},
   "outputs": [
    {
     "data": {
      "text/html": [
       "<div>\n",
       "<style scoped>\n",
       "    .dataframe tbody tr th:only-of-type {\n",
       "        vertical-align: middle;\n",
       "    }\n",
       "\n",
       "    .dataframe tbody tr th {\n",
       "        vertical-align: top;\n",
       "    }\n",
       "\n",
       "    .dataframe thead th {\n",
       "        text-align: right;\n",
       "    }\n",
       "</style>\n",
       "<table border=\"1\" class=\"dataframe\">\n",
       "  <thead>\n",
       "    <tr style=\"text-align: right;\">\n",
       "      <th></th>\n",
       "      <th>index</th>\n",
       "      <th>RegionCode</th>\n",
       "      <th>RegionName</th>\n",
       "      <th>CountryCode</th>\n",
       "      <th>CountryName</th>\n",
       "      <th>Year</th>\n",
       "      <th>Sex</th>\n",
       "      <th>AgeGroup</th>\n",
       "      <th>Generation</th>\n",
       "      <th>SuicideCount</th>\n",
       "      <th>CauseSpecificDeathPercentage</th>\n",
       "      <th>DeathRatePer100K</th>\n",
       "      <th>Population</th>\n",
       "      <th>GDP</th>\n",
       "      <th>GDPPerCapita</th>\n",
       "      <th>GrossNationalIncome</th>\n",
       "      <th>GNIPerCapita</th>\n",
       "      <th>EmploymentPopulationRatio</th>\n",
       "    </tr>\n",
       "  </thead>\n",
       "  <tbody>\n",
       "    <tr>\n",
       "      <th>0</th>\n",
       "      <td>0</td>\n",
       "      <td>EU</td>\n",
       "      <td>Europe</td>\n",
       "      <td>ALB</td>\n",
       "      <td>Albania</td>\n",
       "      <td>1992</td>\n",
       "      <td>Male</td>\n",
       "      <td>0-14 years</td>\n",
       "      <td>Generation Alpha</td>\n",
       "      <td>0.0</td>\n",
       "      <td>0.000000</td>\n",
       "      <td>0.000000</td>\n",
       "      <td>3247039.0</td>\n",
       "      <td>652174990.8</td>\n",
       "      <td>200.85222</td>\n",
       "      <td>906184212.3</td>\n",
       "      <td>1740.0</td>\n",
       "      <td>45.315</td>\n",
       "    </tr>\n",
       "    <tr>\n",
       "      <th>1</th>\n",
       "      <td>4</td>\n",
       "      <td>EU</td>\n",
       "      <td>Europe</td>\n",
       "      <td>ALB</td>\n",
       "      <td>Albania</td>\n",
       "      <td>1992</td>\n",
       "      <td>Male</td>\n",
       "      <td>15-24 years</td>\n",
       "      <td>Generation Z</td>\n",
       "      <td>5.0</td>\n",
       "      <td>3.401361</td>\n",
       "      <td>3.531073</td>\n",
       "      <td>3247039.0</td>\n",
       "      <td>652174990.8</td>\n",
       "      <td>200.85222</td>\n",
       "      <td>906184212.3</td>\n",
       "      <td>1740.0</td>\n",
       "      <td>45.315</td>\n",
       "    </tr>\n",
       "    <tr>\n",
       "      <th>2</th>\n",
       "      <td>5</td>\n",
       "      <td>EU</td>\n",
       "      <td>Europe</td>\n",
       "      <td>ALB</td>\n",
       "      <td>Albania</td>\n",
       "      <td>1992</td>\n",
       "      <td>Male</td>\n",
       "      <td>15-24 years</td>\n",
       "      <td>Generation Z</td>\n",
       "      <td>4.0</td>\n",
       "      <td>1.904762</td>\n",
       "      <td>3.276003</td>\n",
       "      <td>3247039.0</td>\n",
       "      <td>652174990.8</td>\n",
       "      <td>200.85222</td>\n",
       "      <td>906184212.3</td>\n",
       "      <td>1740.0</td>\n",
       "      <td>45.315</td>\n",
       "    </tr>\n",
       "    <tr>\n",
       "      <th>3</th>\n",
       "      <td>6</td>\n",
       "      <td>EU</td>\n",
       "      <td>Europe</td>\n",
       "      <td>ALB</td>\n",
       "      <td>Albania</td>\n",
       "      <td>1992</td>\n",
       "      <td>Male</td>\n",
       "      <td>25-34 years</td>\n",
       "      <td>Millennials</td>\n",
       "      <td>3.0</td>\n",
       "      <td>1.357466</td>\n",
       "      <td>2.487562</td>\n",
       "      <td>3247039.0</td>\n",
       "      <td>652174990.8</td>\n",
       "      <td>200.85222</td>\n",
       "      <td>906184212.3</td>\n",
       "      <td>1740.0</td>\n",
       "      <td>45.315</td>\n",
       "    </tr>\n",
       "    <tr>\n",
       "      <th>4</th>\n",
       "      <td>7</td>\n",
       "      <td>EU</td>\n",
       "      <td>Europe</td>\n",
       "      <td>ALB</td>\n",
       "      <td>Albania</td>\n",
       "      <td>1992</td>\n",
       "      <td>Male</td>\n",
       "      <td>25-34 years</td>\n",
       "      <td>Millennials</td>\n",
       "      <td>4.0</td>\n",
       "      <td>2.094241</td>\n",
       "      <td>3.202562</td>\n",
       "      <td>3247039.0</td>\n",
       "      <td>652174990.8</td>\n",
       "      <td>200.85222</td>\n",
       "      <td>906184212.3</td>\n",
       "      <td>1740.0</td>\n",
       "      <td>45.315</td>\n",
       "    </tr>\n",
       "  </tbody>\n",
       "</table>\n",
       "</div>"
      ],
      "text/plain": [
       "   index RegionCode RegionName CountryCode CountryName  Year   Sex  \\\n",
       "0      0         EU     Europe         ALB     Albania  1992  Male   \n",
       "1      4         EU     Europe         ALB     Albania  1992  Male   \n",
       "2      5         EU     Europe         ALB     Albania  1992  Male   \n",
       "3      6         EU     Europe         ALB     Albania  1992  Male   \n",
       "4      7         EU     Europe         ALB     Albania  1992  Male   \n",
       "\n",
       "      AgeGroup        Generation  SuicideCount  CauseSpecificDeathPercentage  \\\n",
       "0   0-14 years  Generation Alpha           0.0                      0.000000   \n",
       "1  15-24 years      Generation Z           5.0                      3.401361   \n",
       "2  15-24 years      Generation Z           4.0                      1.904762   \n",
       "3  25-34 years       Millennials           3.0                      1.357466   \n",
       "4  25-34 years       Millennials           4.0                      2.094241   \n",
       "\n",
       "   DeathRatePer100K  Population          GDP  GDPPerCapita  \\\n",
       "0          0.000000   3247039.0  652174990.8     200.85222   \n",
       "1          3.531073   3247039.0  652174990.8     200.85222   \n",
       "2          3.276003   3247039.0  652174990.8     200.85222   \n",
       "3          2.487562   3247039.0  652174990.8     200.85222   \n",
       "4          3.202562   3247039.0  652174990.8     200.85222   \n",
       "\n",
       "   GrossNationalIncome  GNIPerCapita  EmploymentPopulationRatio  \n",
       "0          906184212.3        1740.0                     45.315  \n",
       "1          906184212.3        1740.0                     45.315  \n",
       "2          906184212.3        1740.0                     45.315  \n",
       "3          906184212.3        1740.0                     45.315  \n",
       "4          906184212.3        1740.0                     45.315  "
      ]
     },
     "execution_count": 18,
     "metadata": {},
     "output_type": "execute_result"
    }
   ],
   "source": [
    "df.head()"
   ]
  },
  {
   "cell_type": "code",
   "execution_count": null,
   "metadata": {},
   "outputs": [],
   "source": [
    "import cufflinks as cf\n",
    "import chart_studio.plotly as py\n",
    "import plotly.express as px\n",
    "%matplotlib inline\n",
    "\n",
    "from plotly.offline import download_plotlyjs, init_notebook_mode, plot, iplot\n",
    "init_notebook_mode(connected = True)\n",
    "cf.go_offline()"
   ]
  },
  {
   "cell_type": "code",
   "execution_count": null,
   "metadata": {},
   "outputs": [
    {
     "data": {
      "application/vnd.plotly.v1+json": {
       "config": {
        "plotlyServerURL": "https://plot.ly"
       },
       "data": [
        {
         "coloraxis": "coloraxis",
         "geo": "geo",
         "hovertemplate": "<b>%{hovertext}</b><br><br>CountryName=%{location}<br>DeathRatePer100K=%{z}<extra></extra>",
         "hovertext": [
          "Albania",
          "Antigua and Barbuda",
          "Argentina",
          "Armenia",
          "Australia",
          "Austria",
          "Azerbaijan",
          "Bahamas",
          "Bahrain",
          "Barbados",
          "Belarus",
          "Belgium",
          "Belize",
          "Bosnia and Herzegovina",
          "Brazil",
          "Brunei Darussalam",
          "Bulgaria",
          "Cabo Verde",
          "Canada",
          "Chile",
          "China, Hong Kong SAR",
          "Colombia",
          "Costa Rica",
          "Croatia",
          "Cuba",
          "Cyprus",
          "Czechia",
          "Denmark",
          "Dominica",
          "Dominican Republic",
          "Ecuador",
          "Egypt",
          "El Salvador",
          "Estonia",
          "Fiji",
          "Finland",
          "France",
          "French Guiana",
          "Georgia",
          "Germany",
          "Greece",
          "Grenada",
          "Guadeloupe",
          "Guatemala",
          "Guyana",
          "Hungary",
          "Iceland",
          "Iran (Islamic Republic of)",
          "Iraq",
          "Ireland",
          "Israel",
          "Italy",
          "Jamaica",
          "Japan",
          "Jordan",
          "Kazakhstan",
          "Kuwait",
          "Kyrgyzstan",
          "Latvia",
          "Lebanon",
          "Lithuania",
          "Luxembourg",
          "Malaysia",
          "Maldives",
          "Malta",
          "Martinique",
          "Mauritius",
          "Mayotte",
          "Mexico",
          "Mongolia",
          "Montenegro",
          "Netherlands",
          "New Zealand",
          "Nicaragua",
          "North Macedonia",
          "Norway",
          "Oman",
          "Panama",
          "Paraguay",
          "Peru",
          "Philippines",
          "Poland",
          "Portugal",
          "Puerto Rico",
          "Qatar",
          "R?union",
          "Republic of Korea",
          "Republic of Moldova",
          "Romania",
          "Russian Federation",
          "Saint Kitts and Nevis",
          "Saint Lucia",
          "Saint Vincent and the Grenadines",
          "Serbia",
          "Seychelles",
          "Singapore",
          "Slovakia",
          "Slovenia",
          "South Africa",
          "Spain",
          "Sri Lanka",
          "Suriname",
          "Sweden",
          "Switzerland",
          "Syrian Arab Republic",
          "T?rkiye",
          "Tajikistan",
          "Thailand",
          "Trinidad and Tobago",
          "Turkmenistan",
          "Ukraine",
          "United Arab Emirates",
          "United Kingdom of Great Britain and Northern Ireland",
          "United States of America",
          "Uruguay",
          "Uzbekistan",
          "Venezuela (Bolivarian Republic of)"
         ],
         "locationmode": "country names",
         "locations": [
          "Albania",
          "Antigua and Barbuda",
          "Argentina",
          "Armenia",
          "Australia",
          "Austria",
          "Azerbaijan",
          "Bahamas",
          "Bahrain",
          "Barbados",
          "Belarus",
          "Belgium",
          "Belize",
          "Bosnia and Herzegovina",
          "Brazil",
          "Brunei Darussalam",
          "Bulgaria",
          "Cabo Verde",
          "Canada",
          "Chile",
          "China, Hong Kong SAR",
          "Colombia",
          "Costa Rica",
          "Croatia",
          "Cuba",
          "Cyprus",
          "Czechia",
          "Denmark",
          "Dominica",
          "Dominican Republic",
          "Ecuador",
          "Egypt",
          "El Salvador",
          "Estonia",
          "Fiji",
          "Finland",
          "France",
          "French Guiana",
          "Georgia",
          "Germany",
          "Greece",
          "Grenada",
          "Guadeloupe",
          "Guatemala",
          "Guyana",
          "Hungary",
          "Iceland",
          "Iran (Islamic Republic of)",
          "Iraq",
          "Ireland",
          "Israel",
          "Italy",
          "Jamaica",
          "Japan",
          "Jordan",
          "Kazakhstan",
          "Kuwait",
          "Kyrgyzstan",
          "Latvia",
          "Lebanon",
          "Lithuania",
          "Luxembourg",
          "Malaysia",
          "Maldives",
          "Malta",
          "Martinique",
          "Mauritius",
          "Mayotte",
          "Mexico",
          "Mongolia",
          "Montenegro",
          "Netherlands",
          "New Zealand",
          "Nicaragua",
          "North Macedonia",
          "Norway",
          "Oman",
          "Panama",
          "Paraguay",
          "Peru",
          "Philippines",
          "Poland",
          "Portugal",
          "Puerto Rico",
          "Qatar",
          "R?union",
          "Republic of Korea",
          "Republic of Moldova",
          "Romania",
          "Russian Federation",
          "Saint Kitts and Nevis",
          "Saint Lucia",
          "Saint Vincent and the Grenadines",
          "Serbia",
          "Seychelles",
          "Singapore",
          "Slovakia",
          "Slovenia",
          "South Africa",
          "Spain",
          "Sri Lanka",
          "Suriname",
          "Sweden",
          "Switzerland",
          "Syrian Arab Republic",
          "T?rkiye",
          "Tajikistan",
          "Thailand",
          "Trinidad and Tobago",
          "Turkmenistan",
          "Ukraine",
          "United Arab Emirates",
          "United Kingdom of Great Britain and Northern Ireland",
          "United States of America",
          "Uruguay",
          "Uzbekistan",
          "Venezuela (Bolivarian Republic of)"
         ],
         "name": "",
         "type": "choropleth",
         "z": {
          "bdata": "KLagoV0jFEDaJVipf44KQFBWBgUKSSZArhlLqgKlEkAdfop9CvsqQCLckdEH9DdAV5dvJftXB0DbdqtUFjMQQGxkerZBbRFAXnYXskM8G0A/+DyYUcdAQPqHVqPf2TVAGPHHkHW2KECWV0KdFC4qQLPRfwSDfx1APYCiKz+kGEBTINx66f8zQFRTG6t6UTZAnO+keNfKKEAqZO+NHGInQEw4g+YJqzJA80FDJ1fFGUAvJ91+nZsgQEtt0G0aujpAYk/qNcNLN0B14aYlN7gWQHKYEgkFJjRAKfGkEDJMMUDrxkA/fpkoQNAEnaQa0hZAjGJsdEXTG0C15LJFlxnwP1FBDZvqHyVAdI0brv8tPkAds6Rg1SciQEMT5wTl7zVA8jsvzC2bNUCiNjvf3IgmQCuGtGUYRRlAI+IxmY/JMEBzOK1X/LYUQBZcRFGkkhNAvokPtBlJI0DUD0mwAkgQQE/TnwQkdDtAopCEzVJfQkCBW3hBjJEuQF1FVLUkcRRAlwakHLod/z+arOfHmZ4mQAo9YVoVyyJAFU14Ibs/IkAmxHROhOsAQKIV+otUvzVAC0q3aLis+j8N08CfiDk8QKBDF3FUxgRAOh+WJiU3LUBYHuvebGFAQM+7A1dU+/g/0dfUG+xuREDQqTEj3+AxQGxav8lJgPM/Pxe6lFn9CEDzVBLO/o8hQBgkYLxSdyNAgXv9zya5KUBj6fp8h/wCQFnYpK025BlAXapd7e/qLkCaDx/lagY5QAtQ/XJ8XCdA6EOpZr3/K0DdqBODokUeQK1Yco6j4ilAPdu3QWvCKkCc+XFUuNADQHb/Skkg4xtAFyTVyBL2GUD1XrPuHAcBQGIsngyOaglAbwaAU+EDMECH4lC2lTcqQLVDfnbjCSdAKd7Dq7s2D0DCLlgqlhIpQDyDeSYH9T5A7d6Rs+IwNUAXf8wYArMrQBRXuqcPbEBA68ZAP36ZKEAicjHg+3gpQIRFn5uGLiZAFNiOLO5BOEBMPw7tcbMmQBehVUx0QDBABXMlQIcxLUCi4NoOjx5AQEB3+2x1zgVAJAHQXlEJJUCQMXTDx508QBRWYSxZfzhAtMW0B4WGLkDSf01//i01QEDvWASIfPU/ZcMg5k/cDECKyUKo6YcXQDlk+C2p7x5A+5Ff+UEGMEAdne++MekhQDDU6tGihDtAQj2DhRskAEAfzCpH4DIgQIDGuhrEiSxAEcvQcbPfNkBb0x92uM8gQBIaLzEe+xlA",
          "dtype": "f8"
         }
        }
       ],
       "layout": {
        "coloraxis": {
         "colorbar": {
          "title": {
           "text": "DeathRatePer100K"
          }
         },
         "colorscale": [
          [
           0,
           "rgb(255,245,240)"
          ],
          [
           0.125,
           "rgb(254,224,210)"
          ],
          [
           0.25,
           "rgb(252,187,161)"
          ],
          [
           0.375,
           "rgb(252,146,114)"
          ],
          [
           0.5,
           "rgb(251,106,74)"
          ],
          [
           0.625,
           "rgb(239,59,44)"
          ],
          [
           0.75,
           "rgb(203,24,29)"
          ],
          [
           0.875,
           "rgb(165,15,21)"
          ],
          [
           1,
           "rgb(103,0,13)"
          ]
         ]
        },
        "geo": {
         "center": {},
         "domain": {
          "x": [
           0,
           1
          ],
          "y": [
           0,
           1
          ]
         }
        },
        "height": 400,
        "legend": {
         "tracegroupgap": 0
        },
        "template": {
         "data": {
          "bar": [
           {
            "error_x": {
             "color": "#2a3f5f"
            },
            "error_y": {
             "color": "#2a3f5f"
            },
            "marker": {
             "line": {
              "color": "#E5ECF6",
              "width": 0.5
             },
             "pattern": {
              "fillmode": "overlay",
              "size": 10,
              "solidity": 0.2
             }
            },
            "type": "bar"
           }
          ],
          "barpolar": [
           {
            "marker": {
             "line": {
              "color": "#E5ECF6",
              "width": 0.5
             },
             "pattern": {
              "fillmode": "overlay",
              "size": 10,
              "solidity": 0.2
             }
            },
            "type": "barpolar"
           }
          ],
          "carpet": [
           {
            "aaxis": {
             "endlinecolor": "#2a3f5f",
             "gridcolor": "white",
             "linecolor": "white",
             "minorgridcolor": "white",
             "startlinecolor": "#2a3f5f"
            },
            "baxis": {
             "endlinecolor": "#2a3f5f",
             "gridcolor": "white",
             "linecolor": "white",
             "minorgridcolor": "white",
             "startlinecolor": "#2a3f5f"
            },
            "type": "carpet"
           }
          ],
          "choropleth": [
           {
            "colorbar": {
             "outlinewidth": 0,
             "ticks": ""
            },
            "type": "choropleth"
           }
          ],
          "contour": [
           {
            "colorbar": {
             "outlinewidth": 0,
             "ticks": ""
            },
            "colorscale": [
             [
              0,
              "#0d0887"
             ],
             [
              0.1111111111111111,
              "#46039f"
             ],
             [
              0.2222222222222222,
              "#7201a8"
             ],
             [
              0.3333333333333333,
              "#9c179e"
             ],
             [
              0.4444444444444444,
              "#bd3786"
             ],
             [
              0.5555555555555556,
              "#d8576b"
             ],
             [
              0.6666666666666666,
              "#ed7953"
             ],
             [
              0.7777777777777778,
              "#fb9f3a"
             ],
             [
              0.8888888888888888,
              "#fdca26"
             ],
             [
              1,
              "#f0f921"
             ]
            ],
            "type": "contour"
           }
          ],
          "contourcarpet": [
           {
            "colorbar": {
             "outlinewidth": 0,
             "ticks": ""
            },
            "type": "contourcarpet"
           }
          ],
          "heatmap": [
           {
            "colorbar": {
             "outlinewidth": 0,
             "ticks": ""
            },
            "colorscale": [
             [
              0,
              "#0d0887"
             ],
             [
              0.1111111111111111,
              "#46039f"
             ],
             [
              0.2222222222222222,
              "#7201a8"
             ],
             [
              0.3333333333333333,
              "#9c179e"
             ],
             [
              0.4444444444444444,
              "#bd3786"
             ],
             [
              0.5555555555555556,
              "#d8576b"
             ],
             [
              0.6666666666666666,
              "#ed7953"
             ],
             [
              0.7777777777777778,
              "#fb9f3a"
             ],
             [
              0.8888888888888888,
              "#fdca26"
             ],
             [
              1,
              "#f0f921"
             ]
            ],
            "type": "heatmap"
           }
          ],
          "histogram": [
           {
            "marker": {
             "pattern": {
              "fillmode": "overlay",
              "size": 10,
              "solidity": 0.2
             }
            },
            "type": "histogram"
           }
          ],
          "histogram2d": [
           {
            "colorbar": {
             "outlinewidth": 0,
             "ticks": ""
            },
            "colorscale": [
             [
              0,
              "#0d0887"
             ],
             [
              0.1111111111111111,
              "#46039f"
             ],
             [
              0.2222222222222222,
              "#7201a8"
             ],
             [
              0.3333333333333333,
              "#9c179e"
             ],
             [
              0.4444444444444444,
              "#bd3786"
             ],
             [
              0.5555555555555556,
              "#d8576b"
             ],
             [
              0.6666666666666666,
              "#ed7953"
             ],
             [
              0.7777777777777778,
              "#fb9f3a"
             ],
             [
              0.8888888888888888,
              "#fdca26"
             ],
             [
              1,
              "#f0f921"
             ]
            ],
            "type": "histogram2d"
           }
          ],
          "histogram2dcontour": [
           {
            "colorbar": {
             "outlinewidth": 0,
             "ticks": ""
            },
            "colorscale": [
             [
              0,
              "#0d0887"
             ],
             [
              0.1111111111111111,
              "#46039f"
             ],
             [
              0.2222222222222222,
              "#7201a8"
             ],
             [
              0.3333333333333333,
              "#9c179e"
             ],
             [
              0.4444444444444444,
              "#bd3786"
             ],
             [
              0.5555555555555556,
              "#d8576b"
             ],
             [
              0.6666666666666666,
              "#ed7953"
             ],
             [
              0.7777777777777778,
              "#fb9f3a"
             ],
             [
              0.8888888888888888,
              "#fdca26"
             ],
             [
              1,
              "#f0f921"
             ]
            ],
            "type": "histogram2dcontour"
           }
          ],
          "mesh3d": [
           {
            "colorbar": {
             "outlinewidth": 0,
             "ticks": ""
            },
            "type": "mesh3d"
           }
          ],
          "parcoords": [
           {
            "line": {
             "colorbar": {
              "outlinewidth": 0,
              "ticks": ""
             }
            },
            "type": "parcoords"
           }
          ],
          "pie": [
           {
            "automargin": true,
            "type": "pie"
           }
          ],
          "scatter": [
           {
            "fillpattern": {
             "fillmode": "overlay",
             "size": 10,
             "solidity": 0.2
            },
            "type": "scatter"
           }
          ],
          "scatter3d": [
           {
            "line": {
             "colorbar": {
              "outlinewidth": 0,
              "ticks": ""
             }
            },
            "marker": {
             "colorbar": {
              "outlinewidth": 0,
              "ticks": ""
             }
            },
            "type": "scatter3d"
           }
          ],
          "scattercarpet": [
           {
            "marker": {
             "colorbar": {
              "outlinewidth": 0,
              "ticks": ""
             }
            },
            "type": "scattercarpet"
           }
          ],
          "scattergeo": [
           {
            "marker": {
             "colorbar": {
              "outlinewidth": 0,
              "ticks": ""
             }
            },
            "type": "scattergeo"
           }
          ],
          "scattergl": [
           {
            "marker": {
             "colorbar": {
              "outlinewidth": 0,
              "ticks": ""
             }
            },
            "type": "scattergl"
           }
          ],
          "scattermap": [
           {
            "marker": {
             "colorbar": {
              "outlinewidth": 0,
              "ticks": ""
             }
            },
            "type": "scattermap"
           }
          ],
          "scattermapbox": [
           {
            "marker": {
             "colorbar": {
              "outlinewidth": 0,
              "ticks": ""
             }
            },
            "type": "scattermapbox"
           }
          ],
          "scatterpolar": [
           {
            "marker": {
             "colorbar": {
              "outlinewidth": 0,
              "ticks": ""
             }
            },
            "type": "scatterpolar"
           }
          ],
          "scatterpolargl": [
           {
            "marker": {
             "colorbar": {
              "outlinewidth": 0,
              "ticks": ""
             }
            },
            "type": "scatterpolargl"
           }
          ],
          "scatterternary": [
           {
            "marker": {
             "colorbar": {
              "outlinewidth": 0,
              "ticks": ""
             }
            },
            "type": "scatterternary"
           }
          ],
          "surface": [
           {
            "colorbar": {
             "outlinewidth": 0,
             "ticks": ""
            },
            "colorscale": [
             [
              0,
              "#0d0887"
             ],
             [
              0.1111111111111111,
              "#46039f"
             ],
             [
              0.2222222222222222,
              "#7201a8"
             ],
             [
              0.3333333333333333,
              "#9c179e"
             ],
             [
              0.4444444444444444,
              "#bd3786"
             ],
             [
              0.5555555555555556,
              "#d8576b"
             ],
             [
              0.6666666666666666,
              "#ed7953"
             ],
             [
              0.7777777777777778,
              "#fb9f3a"
             ],
             [
              0.8888888888888888,
              "#fdca26"
             ],
             [
              1,
              "#f0f921"
             ]
            ],
            "type": "surface"
           }
          ],
          "table": [
           {
            "cells": {
             "fill": {
              "color": "#EBF0F8"
             },
             "line": {
              "color": "white"
             }
            },
            "header": {
             "fill": {
              "color": "#C8D4E3"
             },
             "line": {
              "color": "white"
             }
            },
            "type": "table"
           }
          ]
         },
         "layout": {
          "annotationdefaults": {
           "arrowcolor": "#2a3f5f",
           "arrowhead": 0,
           "arrowwidth": 1
          },
          "autotypenumbers": "strict",
          "coloraxis": {
           "colorbar": {
            "outlinewidth": 0,
            "ticks": ""
           }
          },
          "colorscale": {
           "diverging": [
            [
             0,
             "#8e0152"
            ],
            [
             0.1,
             "#c51b7d"
            ],
            [
             0.2,
             "#de77ae"
            ],
            [
             0.3,
             "#f1b6da"
            ],
            [
             0.4,
             "#fde0ef"
            ],
            [
             0.5,
             "#f7f7f7"
            ],
            [
             0.6,
             "#e6f5d0"
            ],
            [
             0.7,
             "#b8e186"
            ],
            [
             0.8,
             "#7fbc41"
            ],
            [
             0.9,
             "#4d9221"
            ],
            [
             1,
             "#276419"
            ]
           ],
           "sequential": [
            [
             0,
             "#0d0887"
            ],
            [
             0.1111111111111111,
             "#46039f"
            ],
            [
             0.2222222222222222,
             "#7201a8"
            ],
            [
             0.3333333333333333,
             "#9c179e"
            ],
            [
             0.4444444444444444,
             "#bd3786"
            ],
            [
             0.5555555555555556,
             "#d8576b"
            ],
            [
             0.6666666666666666,
             "#ed7953"
            ],
            [
             0.7777777777777778,
             "#fb9f3a"
            ],
            [
             0.8888888888888888,
             "#fdca26"
            ],
            [
             1,
             "#f0f921"
            ]
           ],
           "sequentialminus": [
            [
             0,
             "#0d0887"
            ],
            [
             0.1111111111111111,
             "#46039f"
            ],
            [
             0.2222222222222222,
             "#7201a8"
            ],
            [
             0.3333333333333333,
             "#9c179e"
            ],
            [
             0.4444444444444444,
             "#bd3786"
            ],
            [
             0.5555555555555556,
             "#d8576b"
            ],
            [
             0.6666666666666666,
             "#ed7953"
            ],
            [
             0.7777777777777778,
             "#fb9f3a"
            ],
            [
             0.8888888888888888,
             "#fdca26"
            ],
            [
             1,
             "#f0f921"
            ]
           ]
          },
          "colorway": [
           "#636efa",
           "#EF553B",
           "#00cc96",
           "#ab63fa",
           "#FFA15A",
           "#19d3f3",
           "#FF6692",
           "#B6E880",
           "#FF97FF",
           "#FECB52"
          ],
          "font": {
           "color": "#2a3f5f"
          },
          "geo": {
           "bgcolor": "white",
           "lakecolor": "white",
           "landcolor": "#E5ECF6",
           "showlakes": true,
           "showland": true,
           "subunitcolor": "white"
          },
          "hoverlabel": {
           "align": "left"
          },
          "hovermode": "closest",
          "mapbox": {
           "style": "light"
          },
          "paper_bgcolor": "white",
          "plot_bgcolor": "#E5ECF6",
          "polar": {
           "angularaxis": {
            "gridcolor": "white",
            "linecolor": "white",
            "ticks": ""
           },
           "bgcolor": "#E5ECF6",
           "radialaxis": {
            "gridcolor": "white",
            "linecolor": "white",
            "ticks": ""
           }
          },
          "scene": {
           "xaxis": {
            "backgroundcolor": "#E5ECF6",
            "gridcolor": "white",
            "gridwidth": 2,
            "linecolor": "white",
            "showbackground": true,
            "ticks": "",
            "zerolinecolor": "white"
           },
           "yaxis": {
            "backgroundcolor": "#E5ECF6",
            "gridcolor": "white",
            "gridwidth": 2,
            "linecolor": "white",
            "showbackground": true,
            "ticks": "",
            "zerolinecolor": "white"
           },
           "zaxis": {
            "backgroundcolor": "#E5ECF6",
            "gridcolor": "white",
            "gridwidth": 2,
            "linecolor": "white",
            "showbackground": true,
            "ticks": "",
            "zerolinecolor": "white"
           }
          },
          "shapedefaults": {
           "line": {
            "color": "#2a3f5f"
           }
          },
          "ternary": {
           "aaxis": {
            "gridcolor": "white",
            "linecolor": "white",
            "ticks": ""
           },
           "baxis": {
            "gridcolor": "white",
            "linecolor": "white",
            "ticks": ""
           },
           "bgcolor": "#E5ECF6",
           "caxis": {
            "gridcolor": "white",
            "linecolor": "white",
            "ticks": ""
           }
          },
          "title": {
           "x": 0.05
          },
          "xaxis": {
           "automargin": true,
           "gridcolor": "white",
           "linecolor": "white",
           "ticks": "",
           "title": {
            "standoff": 15
           },
           "zerolinecolor": "white",
           "zerolinewidth": 2
          },
          "yaxis": {
           "automargin": true,
           "gridcolor": "white",
           "linecolor": "white",
           "ticks": "",
           "title": {
            "standoff": 15
           },
           "zerolinecolor": "white",
           "zerolinewidth": 2
          }
         }
        },
        "title": {
         "text": "Global Suicide Rates (per 100K)"
        },
        "width": 700
       }
      },
      "text/html": [
       "<div>            <script src=\"https://cdnjs.cloudflare.com/ajax/libs/mathjax/2.7.5/MathJax.js?config=TeX-AMS-MML_SVG\"></script><script type=\"text/javascript\">if (window.MathJax && window.MathJax.Hub && window.MathJax.Hub.Config) {window.MathJax.Hub.Config({SVG: {font: \"STIX-Web\"}});}</script>                <script type=\"text/javascript\">window.PlotlyConfig = {MathJaxConfig: 'local'};</script>\n",
       "        <script charset=\"utf-8\" src=\"https://cdn.plot.ly/plotly-3.0.0.min.js\"></script>                <div id=\"656c40b8-5086-4def-bc29-11b504ad5a76\" class=\"plotly-graph-div\" style=\"height:400px; width:700px;\"></div>            <script type=\"text/javascript\">                window.PLOTLYENV=window.PLOTLYENV || {};                                if (document.getElementById(\"656c40b8-5086-4def-bc29-11b504ad5a76\")) {                    Plotly.newPlot(                        \"656c40b8-5086-4def-bc29-11b504ad5a76\",                        [{\"coloraxis\":\"coloraxis\",\"geo\":\"geo\",\"hovertemplate\":\"\\u003cb\\u003e%{hovertext}\\u003c\\u002fb\\u003e\\u003cbr\\u003e\\u003cbr\\u003eCountryName=%{location}\\u003cbr\\u003eDeathRatePer100K=%{z}\\u003cextra\\u003e\\u003c\\u002fextra\\u003e\",\"hovertext\":[\"Albania\",\"Antigua and Barbuda\",\"Argentina\",\"Armenia\",\"Australia\",\"Austria\",\"Azerbaijan\",\"Bahamas\",\"Bahrain\",\"Barbados\",\"Belarus\",\"Belgium\",\"Belize\",\"Bosnia and Herzegovina\",\"Brazil\",\"Brunei Darussalam\",\"Bulgaria\",\"Cabo Verde\",\"Canada\",\"Chile\",\"China, Hong Kong SAR\",\"Colombia\",\"Costa Rica\",\"Croatia\",\"Cuba\",\"Cyprus\",\"Czechia\",\"Denmark\",\"Dominica\",\"Dominican Republic\",\"Ecuador\",\"Egypt\",\"El Salvador\",\"Estonia\",\"Fiji\",\"Finland\",\"France\",\"French Guiana\",\"Georgia\",\"Germany\",\"Greece\",\"Grenada\",\"Guadeloupe\",\"Guatemala\",\"Guyana\",\"Hungary\",\"Iceland\",\"Iran (Islamic Republic of)\",\"Iraq\",\"Ireland\",\"Israel\",\"Italy\",\"Jamaica\",\"Japan\",\"Jordan\",\"Kazakhstan\",\"Kuwait\",\"Kyrgyzstan\",\"Latvia\",\"Lebanon\",\"Lithuania\",\"Luxembourg\",\"Malaysia\",\"Maldives\",\"Malta\",\"Martinique\",\"Mauritius\",\"Mayotte\",\"Mexico\",\"Mongolia\",\"Montenegro\",\"Netherlands\",\"New Zealand\",\"Nicaragua\",\"North Macedonia\",\"Norway\",\"Oman\",\"Panama\",\"Paraguay\",\"Peru\",\"Philippines\",\"Poland\",\"Portugal\",\"Puerto Rico\",\"Qatar\",\"R?union\",\"Republic of Korea\",\"Republic of Moldova\",\"Romania\",\"Russian Federation\",\"Saint Kitts and Nevis\",\"Saint Lucia\",\"Saint Vincent and the Grenadines\",\"Serbia\",\"Seychelles\",\"Singapore\",\"Slovakia\",\"Slovenia\",\"South Africa\",\"Spain\",\"Sri Lanka\",\"Suriname\",\"Sweden\",\"Switzerland\",\"Syrian Arab Republic\",\"T?rkiye\",\"Tajikistan\",\"Thailand\",\"Trinidad and Tobago\",\"Turkmenistan\",\"Ukraine\",\"United Arab Emirates\",\"United Kingdom of Great Britain and Northern Ireland\",\"United States of America\",\"Uruguay\",\"Uzbekistan\",\"Venezuela (Bolivarian Republic of)\"],\"locationmode\":\"country names\",\"locations\":[\"Albania\",\"Antigua and Barbuda\",\"Argentina\",\"Armenia\",\"Australia\",\"Austria\",\"Azerbaijan\",\"Bahamas\",\"Bahrain\",\"Barbados\",\"Belarus\",\"Belgium\",\"Belize\",\"Bosnia and Herzegovina\",\"Brazil\",\"Brunei Darussalam\",\"Bulgaria\",\"Cabo Verde\",\"Canada\",\"Chile\",\"China, Hong Kong SAR\",\"Colombia\",\"Costa Rica\",\"Croatia\",\"Cuba\",\"Cyprus\",\"Czechia\",\"Denmark\",\"Dominica\",\"Dominican Republic\",\"Ecuador\",\"Egypt\",\"El Salvador\",\"Estonia\",\"Fiji\",\"Finland\",\"France\",\"French Guiana\",\"Georgia\",\"Germany\",\"Greece\",\"Grenada\",\"Guadeloupe\",\"Guatemala\",\"Guyana\",\"Hungary\",\"Iceland\",\"Iran (Islamic Republic of)\",\"Iraq\",\"Ireland\",\"Israel\",\"Italy\",\"Jamaica\",\"Japan\",\"Jordan\",\"Kazakhstan\",\"Kuwait\",\"Kyrgyzstan\",\"Latvia\",\"Lebanon\",\"Lithuania\",\"Luxembourg\",\"Malaysia\",\"Maldives\",\"Malta\",\"Martinique\",\"Mauritius\",\"Mayotte\",\"Mexico\",\"Mongolia\",\"Montenegro\",\"Netherlands\",\"New Zealand\",\"Nicaragua\",\"North Macedonia\",\"Norway\",\"Oman\",\"Panama\",\"Paraguay\",\"Peru\",\"Philippines\",\"Poland\",\"Portugal\",\"Puerto Rico\",\"Qatar\",\"R?union\",\"Republic of Korea\",\"Republic of Moldova\",\"Romania\",\"Russian Federation\",\"Saint Kitts and Nevis\",\"Saint Lucia\",\"Saint Vincent and the Grenadines\",\"Serbia\",\"Seychelles\",\"Singapore\",\"Slovakia\",\"Slovenia\",\"South Africa\",\"Spain\",\"Sri Lanka\",\"Suriname\",\"Sweden\",\"Switzerland\",\"Syrian Arab Republic\",\"T?rkiye\",\"Tajikistan\",\"Thailand\",\"Trinidad and Tobago\",\"Turkmenistan\",\"Ukraine\",\"United Arab Emirates\",\"United Kingdom of Great Britain and Northern Ireland\",\"United States of America\",\"Uruguay\",\"Uzbekistan\",\"Venezuela (Bolivarian Republic of)\"],\"name\":\"\",\"z\":{\"dtype\":\"f8\",\"bdata\":\"KLagoV0jFEDaJVipf44KQFBWBgUKSSZArhlLqgKlEkAdfop9CvsqQCLckdEH9DdAV5dvJftXB0DbdqtUFjMQQGxkerZBbRFAXnYXskM8G0A\\u002f+DyYUcdAQPqHVqPf2TVAGPHHkHW2KECWV0KdFC4qQLPRfwSDfx1APYCiKz+kGEBTINx66f8zQFRTG6t6UTZAnO+keNfKKEAqZO+NHGInQEw4g+YJqzJA80FDJ1fFGUAvJ91+nZsgQEtt0G0aujpAYk\\u002fqNcNLN0B14aYlN7gWQHKYEgkFJjRAKfGkEDJMMUDrxkA\\u002ffpkoQNAEnaQa0hZAjGJsdEXTG0C15LJFlxnwP1FBDZvqHyVAdI0brv8tPkAds6Rg1SciQEMT5wTl7zVA8jsvzC2bNUCiNjvf3IgmQCuGtGUYRRlAI+IxmY\\u002fJMEBzOK1X\\u002fLYUQBZcRFGkkhNAvokPtBlJI0DUD0mwAkgQQE\\u002fTnwQkdDtAopCEzVJfQkCBW3hBjJEuQF1FVLUkcRRAlwakHLod\\u002fz+arOfHmZ4mQAo9YVoVyyJAFU14Ibs\\u002fIkAmxHROhOsAQKIV+otUvzVAC0q3aLis+j8N08CfiDk8QKBDF3FUxgRAOh+WJiU3LUBYHuvebGFAQM+7A1dU+\\u002fg\\u002f0dfUG+xuREDQqTEj3+AxQGxav8lJgPM\\u002fPxe6lFn9CEDzVBLO\\u002fo8hQBgkYLxSdyNAgXv9zya5KUBj6fp8h\\u002fwCQFnYpK025BlAXapd7e\\u002fqLkCaDx\\u002flagY5QAtQ\\u002fXJ8XCdA6EOpZr3\\u002fK0DdqBODokUeQK1Yco6j4ilAPdu3QWvCKkCc+XFUuNADQHb\\u002fSkkg4xtAFyTVyBL2GUD1XrPuHAcBQGIsngyOaglAbwaAU+EDMECH4lC2lTcqQLVDfnbjCSdAKd7Dq7s2D0DCLlgqlhIpQDyDeSYH9T5A7d6Rs+IwNUAXf8wYArMrQBRXuqcPbEBA68ZAP36ZKEAicjHg+3gpQIRFn5uGLiZAFNiOLO5BOEBMPw7tcbMmQBehVUx0QDBABXMlQIcxLUCi4NoOjx5AQEB3+2x1zgVAJAHQXlEJJUCQMXTDx508QBRWYSxZfzhAtMW0B4WGLkDSf01\\u002f\\u002fi01QEDvWASIfPU\\u002fZcMg5k\\u002fcDECKyUKo6YcXQDlk+C2p7x5A+5Ff+UEGMEAdne++MekhQDDU6tGihDtAQj2DhRskAEAfzCpH4DIgQIDGuhrEiSxAEcvQcbPfNkBb0x92uM8gQBIaLzEe+xlA\"},\"type\":\"choropleth\"}],                        {\"template\":{\"data\":{\"histogram2dcontour\":[{\"type\":\"histogram2dcontour\",\"colorbar\":{\"outlinewidth\":0,\"ticks\":\"\"},\"colorscale\":[[0.0,\"#0d0887\"],[0.1111111111111111,\"#46039f\"],[0.2222222222222222,\"#7201a8\"],[0.3333333333333333,\"#9c179e\"],[0.4444444444444444,\"#bd3786\"],[0.5555555555555556,\"#d8576b\"],[0.6666666666666666,\"#ed7953\"],[0.7777777777777778,\"#fb9f3a\"],[0.8888888888888888,\"#fdca26\"],[1.0,\"#f0f921\"]]}],\"choropleth\":[{\"type\":\"choropleth\",\"colorbar\":{\"outlinewidth\":0,\"ticks\":\"\"}}],\"histogram2d\":[{\"type\":\"histogram2d\",\"colorbar\":{\"outlinewidth\":0,\"ticks\":\"\"},\"colorscale\":[[0.0,\"#0d0887\"],[0.1111111111111111,\"#46039f\"],[0.2222222222222222,\"#7201a8\"],[0.3333333333333333,\"#9c179e\"],[0.4444444444444444,\"#bd3786\"],[0.5555555555555556,\"#d8576b\"],[0.6666666666666666,\"#ed7953\"],[0.7777777777777778,\"#fb9f3a\"],[0.8888888888888888,\"#fdca26\"],[1.0,\"#f0f921\"]]}],\"heatmap\":[{\"type\":\"heatmap\",\"colorbar\":{\"outlinewidth\":0,\"ticks\":\"\"},\"colorscale\":[[0.0,\"#0d0887\"],[0.1111111111111111,\"#46039f\"],[0.2222222222222222,\"#7201a8\"],[0.3333333333333333,\"#9c179e\"],[0.4444444444444444,\"#bd3786\"],[0.5555555555555556,\"#d8576b\"],[0.6666666666666666,\"#ed7953\"],[0.7777777777777778,\"#fb9f3a\"],[0.8888888888888888,\"#fdca26\"],[1.0,\"#f0f921\"]]}],\"contourcarpet\":[{\"type\":\"contourcarpet\",\"colorbar\":{\"outlinewidth\":0,\"ticks\":\"\"}}],\"contour\":[{\"type\":\"contour\",\"colorbar\":{\"outlinewidth\":0,\"ticks\":\"\"},\"colorscale\":[[0.0,\"#0d0887\"],[0.1111111111111111,\"#46039f\"],[0.2222222222222222,\"#7201a8\"],[0.3333333333333333,\"#9c179e\"],[0.4444444444444444,\"#bd3786\"],[0.5555555555555556,\"#d8576b\"],[0.6666666666666666,\"#ed7953\"],[0.7777777777777778,\"#fb9f3a\"],[0.8888888888888888,\"#fdca26\"],[1.0,\"#f0f921\"]]}],\"surface\":[{\"type\":\"surface\",\"colorbar\":{\"outlinewidth\":0,\"ticks\":\"\"},\"colorscale\":[[0.0,\"#0d0887\"],[0.1111111111111111,\"#46039f\"],[0.2222222222222222,\"#7201a8\"],[0.3333333333333333,\"#9c179e\"],[0.4444444444444444,\"#bd3786\"],[0.5555555555555556,\"#d8576b\"],[0.6666666666666666,\"#ed7953\"],[0.7777777777777778,\"#fb9f3a\"],[0.8888888888888888,\"#fdca26\"],[1.0,\"#f0f921\"]]}],\"mesh3d\":[{\"type\":\"mesh3d\",\"colorbar\":{\"outlinewidth\":0,\"ticks\":\"\"}}],\"scatter\":[{\"fillpattern\":{\"fillmode\":\"overlay\",\"size\":10,\"solidity\":0.2},\"type\":\"scatter\"}],\"parcoords\":[{\"type\":\"parcoords\",\"line\":{\"colorbar\":{\"outlinewidth\":0,\"ticks\":\"\"}}}],\"scatterpolargl\":[{\"type\":\"scatterpolargl\",\"marker\":{\"colorbar\":{\"outlinewidth\":0,\"ticks\":\"\"}}}],\"bar\":[{\"error_x\":{\"color\":\"#2a3f5f\"},\"error_y\":{\"color\":\"#2a3f5f\"},\"marker\":{\"line\":{\"color\":\"#E5ECF6\",\"width\":0.5},\"pattern\":{\"fillmode\":\"overlay\",\"size\":10,\"solidity\":0.2}},\"type\":\"bar\"}],\"scattergeo\":[{\"type\":\"scattergeo\",\"marker\":{\"colorbar\":{\"outlinewidth\":0,\"ticks\":\"\"}}}],\"scatterpolar\":[{\"type\":\"scatterpolar\",\"marker\":{\"colorbar\":{\"outlinewidth\":0,\"ticks\":\"\"}}}],\"histogram\":[{\"marker\":{\"pattern\":{\"fillmode\":\"overlay\",\"size\":10,\"solidity\":0.2}},\"type\":\"histogram\"}],\"scattergl\":[{\"type\":\"scattergl\",\"marker\":{\"colorbar\":{\"outlinewidth\":0,\"ticks\":\"\"}}}],\"scatter3d\":[{\"type\":\"scatter3d\",\"line\":{\"colorbar\":{\"outlinewidth\":0,\"ticks\":\"\"}},\"marker\":{\"colorbar\":{\"outlinewidth\":0,\"ticks\":\"\"}}}],\"scattermap\":[{\"type\":\"scattermap\",\"marker\":{\"colorbar\":{\"outlinewidth\":0,\"ticks\":\"\"}}}],\"scattermapbox\":[{\"type\":\"scattermapbox\",\"marker\":{\"colorbar\":{\"outlinewidth\":0,\"ticks\":\"\"}}}],\"scatterternary\":[{\"type\":\"scatterternary\",\"marker\":{\"colorbar\":{\"outlinewidth\":0,\"ticks\":\"\"}}}],\"scattercarpet\":[{\"type\":\"scattercarpet\",\"marker\":{\"colorbar\":{\"outlinewidth\":0,\"ticks\":\"\"}}}],\"carpet\":[{\"aaxis\":{\"endlinecolor\":\"#2a3f5f\",\"gridcolor\":\"white\",\"linecolor\":\"white\",\"minorgridcolor\":\"white\",\"startlinecolor\":\"#2a3f5f\"},\"baxis\":{\"endlinecolor\":\"#2a3f5f\",\"gridcolor\":\"white\",\"linecolor\":\"white\",\"minorgridcolor\":\"white\",\"startlinecolor\":\"#2a3f5f\"},\"type\":\"carpet\"}],\"table\":[{\"cells\":{\"fill\":{\"color\":\"#EBF0F8\"},\"line\":{\"color\":\"white\"}},\"header\":{\"fill\":{\"color\":\"#C8D4E3\"},\"line\":{\"color\":\"white\"}},\"type\":\"table\"}],\"barpolar\":[{\"marker\":{\"line\":{\"color\":\"#E5ECF6\",\"width\":0.5},\"pattern\":{\"fillmode\":\"overlay\",\"size\":10,\"solidity\":0.2}},\"type\":\"barpolar\"}],\"pie\":[{\"automargin\":true,\"type\":\"pie\"}]},\"layout\":{\"autotypenumbers\":\"strict\",\"colorway\":[\"#636efa\",\"#EF553B\",\"#00cc96\",\"#ab63fa\",\"#FFA15A\",\"#19d3f3\",\"#FF6692\",\"#B6E880\",\"#FF97FF\",\"#FECB52\"],\"font\":{\"color\":\"#2a3f5f\"},\"hovermode\":\"closest\",\"hoverlabel\":{\"align\":\"left\"},\"paper_bgcolor\":\"white\",\"plot_bgcolor\":\"#E5ECF6\",\"polar\":{\"bgcolor\":\"#E5ECF6\",\"angularaxis\":{\"gridcolor\":\"white\",\"linecolor\":\"white\",\"ticks\":\"\"},\"radialaxis\":{\"gridcolor\":\"white\",\"linecolor\":\"white\",\"ticks\":\"\"}},\"ternary\":{\"bgcolor\":\"#E5ECF6\",\"aaxis\":{\"gridcolor\":\"white\",\"linecolor\":\"white\",\"ticks\":\"\"},\"baxis\":{\"gridcolor\":\"white\",\"linecolor\":\"white\",\"ticks\":\"\"},\"caxis\":{\"gridcolor\":\"white\",\"linecolor\":\"white\",\"ticks\":\"\"}},\"coloraxis\":{\"colorbar\":{\"outlinewidth\":0,\"ticks\":\"\"}},\"colorscale\":{\"sequential\":[[0.0,\"#0d0887\"],[0.1111111111111111,\"#46039f\"],[0.2222222222222222,\"#7201a8\"],[0.3333333333333333,\"#9c179e\"],[0.4444444444444444,\"#bd3786\"],[0.5555555555555556,\"#d8576b\"],[0.6666666666666666,\"#ed7953\"],[0.7777777777777778,\"#fb9f3a\"],[0.8888888888888888,\"#fdca26\"],[1.0,\"#f0f921\"]],\"sequentialminus\":[[0.0,\"#0d0887\"],[0.1111111111111111,\"#46039f\"],[0.2222222222222222,\"#7201a8\"],[0.3333333333333333,\"#9c179e\"],[0.4444444444444444,\"#bd3786\"],[0.5555555555555556,\"#d8576b\"],[0.6666666666666666,\"#ed7953\"],[0.7777777777777778,\"#fb9f3a\"],[0.8888888888888888,\"#fdca26\"],[1.0,\"#f0f921\"]],\"diverging\":[[0,\"#8e0152\"],[0.1,\"#c51b7d\"],[0.2,\"#de77ae\"],[0.3,\"#f1b6da\"],[0.4,\"#fde0ef\"],[0.5,\"#f7f7f7\"],[0.6,\"#e6f5d0\"],[0.7,\"#b8e186\"],[0.8,\"#7fbc41\"],[0.9,\"#4d9221\"],[1,\"#276419\"]]},\"xaxis\":{\"gridcolor\":\"white\",\"linecolor\":\"white\",\"ticks\":\"\",\"title\":{\"standoff\":15},\"zerolinecolor\":\"white\",\"automargin\":true,\"zerolinewidth\":2},\"yaxis\":{\"gridcolor\":\"white\",\"linecolor\":\"white\",\"ticks\":\"\",\"title\":{\"standoff\":15},\"zerolinecolor\":\"white\",\"automargin\":true,\"zerolinewidth\":2},\"scene\":{\"xaxis\":{\"backgroundcolor\":\"#E5ECF6\",\"gridcolor\":\"white\",\"linecolor\":\"white\",\"showbackground\":true,\"ticks\":\"\",\"zerolinecolor\":\"white\",\"gridwidth\":2},\"yaxis\":{\"backgroundcolor\":\"#E5ECF6\",\"gridcolor\":\"white\",\"linecolor\":\"white\",\"showbackground\":true,\"ticks\":\"\",\"zerolinecolor\":\"white\",\"gridwidth\":2},\"zaxis\":{\"backgroundcolor\":\"#E5ECF6\",\"gridcolor\":\"white\",\"linecolor\":\"white\",\"showbackground\":true,\"ticks\":\"\",\"zerolinecolor\":\"white\",\"gridwidth\":2}},\"shapedefaults\":{\"line\":{\"color\":\"#2a3f5f\"}},\"annotationdefaults\":{\"arrowcolor\":\"#2a3f5f\",\"arrowhead\":0,\"arrowwidth\":1},\"geo\":{\"bgcolor\":\"white\",\"landcolor\":\"#E5ECF6\",\"subunitcolor\":\"white\",\"showland\":true,\"showlakes\":true,\"lakecolor\":\"white\"},\"title\":{\"x\":0.05},\"mapbox\":{\"style\":\"light\"}}},\"geo\":{\"domain\":{\"x\":[0.0,1.0],\"y\":[0.0,1.0]},\"center\":{}},\"coloraxis\":{\"colorbar\":{\"title\":{\"text\":\"DeathRatePer100K\"}},\"colorscale\":[[0.0,\"rgb(255,245,240)\"],[0.125,\"rgb(254,224,210)\"],[0.25,\"rgb(252,187,161)\"],[0.375,\"rgb(252,146,114)\"],[0.5,\"rgb(251,106,74)\"],[0.625,\"rgb(239,59,44)\"],[0.75,\"rgb(203,24,29)\"],[0.875,\"rgb(165,15,21)\"],[1.0,\"rgb(103,0,13)\"]]},\"legend\":{\"tracegroupgap\":0},\"title\":{\"text\":\"Global Suicide Rates (per 100K)\"},\"width\":700,\"height\":400},                        {\"responsive\": true}                    ).then(function(){\n",
       "                            \n",
       "var gd = document.getElementById('656c40b8-5086-4def-bc29-11b504ad5a76');\n",
       "var x = new MutationObserver(function (mutations, observer) {{\n",
       "        var display = window.getComputedStyle(gd).display;\n",
       "        if (!display || display === 'none') {{\n",
       "            console.log([gd, 'removed!']);\n",
       "            Plotly.purge(gd);\n",
       "            observer.disconnect();\n",
       "        }}\n",
       "}});\n",
       "\n",
       "// Listen for the removal of the full notebook cells\n",
       "var notebookContainer = gd.closest('#notebook-container');\n",
       "if (notebookContainer) {{\n",
       "    x.observe(notebookContainer, {childList: true});\n",
       "}}\n",
       "\n",
       "// Listen for the clearing of the current output cell\n",
       "var outputEl = gd.closest('.output');\n",
       "if (outputEl) {{\n",
       "    x.observe(outputEl, {childList: true});\n",
       "}}\n",
       "\n",
       "                        })                };            </script>        </div>"
      ]
     },
     "metadata": {},
     "output_type": "display_data"
    }
   ],
   "source": [
    "import plotly.express as px\n",
    "\n",
    "df_map = df.groupby(\"CountryName\")[\"DeathRatePer100K\"].mean().reset_index()\n",
    "\n",
    "fig = px.choropleth(\n",
    "    df_map, \n",
    "    locations=\"CountryName\",\n",
    "    locationmode=\"country names\",\n",
    "    color=\"DeathRatePer100K\",\n",
    "    hover_name=\"CountryName\",\n",
    "    color_continuous_scale=\"Reds\",\n",
    "    title=\"Global Suicide Rates (per 100K)\"\n",
    ")\n",
    "\n",
    "\n",
    "fig.update_layout(\n",
    "    width=700,  \n",
    "    height=400   \n",
    ")\n",
    "\n",
    "fig.show()\n",
    "\n",
    "fig.write_image(\"choropleth_map.png\")"
   ]
  },
  {
   "cell_type": "markdown",
   "metadata": {},
   "source": [
    "![Alt Text](choropleth_map.png)\n"
   ]
  },
  {
   "cell_type": "code",
   "execution_count": null,
   "metadata": {},
   "outputs": [
    {
     "data": {
      "application/vnd.plotly.v1+json": {
       "config": {
        "plotlyServerURL": "https://plot.ly"
       },
       "data": [
        {
         "geo": "geo",
         "hovertemplate": "<b>%{hovertext}</b><br><br>DeathRatePer100K=%{marker.color}<br>CountryName=%{location}<extra></extra>",
         "hovertext": [
          "Albania",
          "Antigua and Barbuda",
          "Argentina",
          "Armenia",
          "Australia",
          "Austria",
          "Azerbaijan",
          "Bahamas",
          "Bahrain",
          "Barbados",
          "Belarus",
          "Belgium",
          "Belize",
          "Bosnia and Herzegovina",
          "Brazil",
          "Brunei Darussalam",
          "Bulgaria",
          "Cabo Verde",
          "Canada",
          "Chile",
          "China, Hong Kong SAR",
          "Colombia",
          "Costa Rica",
          "Croatia",
          "Cuba",
          "Cyprus",
          "Czechia",
          "Denmark",
          "Dominica",
          "Dominican Republic",
          "Ecuador",
          "Egypt",
          "El Salvador",
          "Estonia",
          "Fiji",
          "Finland",
          "France",
          "French Guiana",
          "Georgia",
          "Germany",
          "Greece",
          "Grenada",
          "Guadeloupe",
          "Guatemala",
          "Guyana",
          "Hungary",
          "Iceland",
          "Iran (Islamic Republic of)",
          "Iraq",
          "Ireland",
          "Israel",
          "Italy",
          "Jamaica",
          "Japan",
          "Jordan",
          "Kazakhstan",
          "Kuwait",
          "Kyrgyzstan",
          "Latvia",
          "Lebanon",
          "Lithuania",
          "Luxembourg",
          "Malaysia",
          "Maldives",
          "Malta",
          "Martinique",
          "Mauritius",
          "Mayotte",
          "Mexico",
          "Mongolia",
          "Montenegro",
          "Netherlands",
          "New Zealand",
          "Nicaragua",
          "North Macedonia",
          "Norway",
          "Oman",
          "Panama",
          "Paraguay",
          "Peru",
          "Philippines",
          "Poland",
          "Portugal",
          "Puerto Rico",
          "Qatar",
          "R?union",
          "Republic of Korea",
          "Republic of Moldova",
          "Romania",
          "Russian Federation",
          "Saint Kitts and Nevis",
          "Saint Lucia",
          "Saint Vincent and the Grenadines",
          "Serbia",
          "Seychelles",
          "Singapore",
          "Slovakia",
          "Slovenia",
          "South Africa",
          "Spain",
          "Sri Lanka",
          "Suriname",
          "Sweden",
          "Switzerland",
          "Syrian Arab Republic",
          "T?rkiye",
          "Tajikistan",
          "Thailand",
          "Trinidad and Tobago",
          "Turkmenistan",
          "Ukraine",
          "United Arab Emirates",
          "United Kingdom of Great Britain and Northern Ireland",
          "United States of America",
          "Uruguay",
          "Uzbekistan",
          "Venezuela (Bolivarian Republic of)"
         ],
         "legendgroup": "",
         "locationmode": "country names",
         "locations": [
          "Albania",
          "Antigua and Barbuda",
          "Argentina",
          "Armenia",
          "Australia",
          "Austria",
          "Azerbaijan",
          "Bahamas",
          "Bahrain",
          "Barbados",
          "Belarus",
          "Belgium",
          "Belize",
          "Bosnia and Herzegovina",
          "Brazil",
          "Brunei Darussalam",
          "Bulgaria",
          "Cabo Verde",
          "Canada",
          "Chile",
          "China, Hong Kong SAR",
          "Colombia",
          "Costa Rica",
          "Croatia",
          "Cuba",
          "Cyprus",
          "Czechia",
          "Denmark",
          "Dominica",
          "Dominican Republic",
          "Ecuador",
          "Egypt",
          "El Salvador",
          "Estonia",
          "Fiji",
          "Finland",
          "France",
          "French Guiana",
          "Georgia",
          "Germany",
          "Greece",
          "Grenada",
          "Guadeloupe",
          "Guatemala",
          "Guyana",
          "Hungary",
          "Iceland",
          "Iran (Islamic Republic of)",
          "Iraq",
          "Ireland",
          "Israel",
          "Italy",
          "Jamaica",
          "Japan",
          "Jordan",
          "Kazakhstan",
          "Kuwait",
          "Kyrgyzstan",
          "Latvia",
          "Lebanon",
          "Lithuania",
          "Luxembourg",
          "Malaysia",
          "Maldives",
          "Malta",
          "Martinique",
          "Mauritius",
          "Mayotte",
          "Mexico",
          "Mongolia",
          "Montenegro",
          "Netherlands",
          "New Zealand",
          "Nicaragua",
          "North Macedonia",
          "Norway",
          "Oman",
          "Panama",
          "Paraguay",
          "Peru",
          "Philippines",
          "Poland",
          "Portugal",
          "Puerto Rico",
          "Qatar",
          "R?union",
          "Republic of Korea",
          "Republic of Moldova",
          "Romania",
          "Russian Federation",
          "Saint Kitts and Nevis",
          "Saint Lucia",
          "Saint Vincent and the Grenadines",
          "Serbia",
          "Seychelles",
          "Singapore",
          "Slovakia",
          "Slovenia",
          "South Africa",
          "Spain",
          "Sri Lanka",
          "Suriname",
          "Sweden",
          "Switzerland",
          "Syrian Arab Republic",
          "T?rkiye",
          "Tajikistan",
          "Thailand",
          "Trinidad and Tobago",
          "Turkmenistan",
          "Ukraine",
          "United Arab Emirates",
          "United Kingdom of Great Britain and Northern Ireland",
          "United States of America",
          "Uruguay",
          "Uzbekistan",
          "Venezuela (Bolivarian Republic of)"
         ],
         "marker": {
          "color": {
           "bdata": "KLagoV0jFEDaJVipf44KQFBWBgUKSSZArhlLqgKlEkAdfop9CvsqQCLckdEH9DdAV5dvJftXB0DbdqtUFjMQQGxkerZBbRFAXnYXskM8G0A/+DyYUcdAQPqHVqPf2TVAGPHHkHW2KECWV0KdFC4qQLPRfwSDfx1APYCiKz+kGEBTINx66f8zQFRTG6t6UTZAnO+keNfKKEAqZO+NHGInQEw4g+YJqzJA80FDJ1fFGUAvJ91+nZsgQEtt0G0aujpAYk/qNcNLN0B14aYlN7gWQHKYEgkFJjRAKfGkEDJMMUDrxkA/fpkoQNAEnaQa0hZAjGJsdEXTG0C15LJFlxnwP1FBDZvqHyVAdI0brv8tPkAds6Rg1SciQEMT5wTl7zVA8jsvzC2bNUCiNjvf3IgmQCuGtGUYRRlAI+IxmY/JMEBzOK1X/LYUQBZcRFGkkhNAvokPtBlJI0DUD0mwAkgQQE/TnwQkdDtAopCEzVJfQkCBW3hBjJEuQF1FVLUkcRRAlwakHLod/z+arOfHmZ4mQAo9YVoVyyJAFU14Ibs/IkAmxHROhOsAQKIV+otUvzVAC0q3aLis+j8N08CfiDk8QKBDF3FUxgRAOh+WJiU3LUBYHuvebGFAQM+7A1dU+/g/0dfUG+xuREDQqTEj3+AxQGxav8lJgPM/Pxe6lFn9CEDzVBLO/o8hQBgkYLxSdyNAgXv9zya5KUBj6fp8h/wCQFnYpK025BlAXapd7e/qLkCaDx/lagY5QAtQ/XJ8XCdA6EOpZr3/K0DdqBODokUeQK1Yco6j4ilAPdu3QWvCKkCc+XFUuNADQHb/Skkg4xtAFyTVyBL2GUD1XrPuHAcBQGIsngyOaglAbwaAU+EDMECH4lC2lTcqQLVDfnbjCSdAKd7Dq7s2D0DCLlgqlhIpQDyDeSYH9T5A7d6Rs+IwNUAXf8wYArMrQBRXuqcPbEBA68ZAP36ZKEAicjHg+3gpQIRFn5uGLiZAFNiOLO5BOEBMPw7tcbMmQBehVUx0QDBABXMlQIcxLUCi4NoOjx5AQEB3+2x1zgVAJAHQXlEJJUCQMXTDx508QBRWYSxZfzhAtMW0B4WGLkDSf01//i01QEDvWASIfPU/ZcMg5k/cDECKyUKo6YcXQDlk+C2p7x5A+5Ff+UEGMEAdne++MekhQDDU6tGihDtAQj2DhRskAEAfzCpH4DIgQIDGuhrEiSxAEcvQcbPfNkBb0x92uM8gQBIaLzEe+xlA",
           "dtype": "f8"
          },
          "coloraxis": "coloraxis",
          "size": {
           "bdata": "KLagoV0jFEDaJVipf44KQFBWBgUKSSZArhlLqgKlEkAdfop9CvsqQCLckdEH9DdAV5dvJftXB0DbdqtUFjMQQGxkerZBbRFAXnYXskM8G0A/+DyYUcdAQPqHVqPf2TVAGPHHkHW2KECWV0KdFC4qQLPRfwSDfx1APYCiKz+kGEBTINx66f8zQFRTG6t6UTZAnO+keNfKKEAqZO+NHGInQEw4g+YJqzJA80FDJ1fFGUAvJ91+nZsgQEtt0G0aujpAYk/qNcNLN0B14aYlN7gWQHKYEgkFJjRAKfGkEDJMMUDrxkA/fpkoQNAEnaQa0hZAjGJsdEXTG0C15LJFlxnwP1FBDZvqHyVAdI0brv8tPkAds6Rg1SciQEMT5wTl7zVA8jsvzC2bNUCiNjvf3IgmQCuGtGUYRRlAI+IxmY/JMEBzOK1X/LYUQBZcRFGkkhNAvokPtBlJI0DUD0mwAkgQQE/TnwQkdDtAopCEzVJfQkCBW3hBjJEuQF1FVLUkcRRAlwakHLod/z+arOfHmZ4mQAo9YVoVyyJAFU14Ibs/IkAmxHROhOsAQKIV+otUvzVAC0q3aLis+j8N08CfiDk8QKBDF3FUxgRAOh+WJiU3LUBYHuvebGFAQM+7A1dU+/g/0dfUG+xuREDQqTEj3+AxQGxav8lJgPM/Pxe6lFn9CEDzVBLO/o8hQBgkYLxSdyNAgXv9zya5KUBj6fp8h/wCQFnYpK025BlAXapd7e/qLkCaDx/lagY5QAtQ/XJ8XCdA6EOpZr3/K0DdqBODokUeQK1Yco6j4ilAPdu3QWvCKkCc+XFUuNADQHb/Skkg4xtAFyTVyBL2GUD1XrPuHAcBQGIsngyOaglAbwaAU+EDMECH4lC2lTcqQLVDfnbjCSdAKd7Dq7s2D0DCLlgqlhIpQDyDeSYH9T5A7d6Rs+IwNUAXf8wYArMrQBRXuqcPbEBA68ZAP36ZKEAicjHg+3gpQIRFn5uGLiZAFNiOLO5BOEBMPw7tcbMmQBehVUx0QDBABXMlQIcxLUCi4NoOjx5AQEB3+2x1zgVAJAHQXlEJJUCQMXTDx508QBRWYSxZfzhAtMW0B4WGLkDSf01//i01QEDvWASIfPU/ZcMg5k/cDECKyUKo6YcXQDlk+C2p7x5A+5Ff+UEGMEAdne++MekhQDDU6tGihDtAQj2DhRskAEAfzCpH4DIgQIDGuhrEiSxAEcvQcbPfNkBb0x92uM8gQBIaLzEe+xlA",
           "dtype": "f8"
          },
          "sizemode": "area",
          "sizeref": 1,
          "symbol": "circle"
         },
         "mode": "markers",
         "name": "",
         "showlegend": false,
         "type": "scattergeo"
        }
       ],
       "layout": {
        "coloraxis": {
         "colorbar": {
          "title": {
           "text": "DeathRatePer100K"
          }
         },
         "colorscale": [
          [
           0,
           "rgb(255,245,240)"
          ],
          [
           0.125,
           "rgb(254,224,210)"
          ],
          [
           0.25,
           "rgb(252,187,161)"
          ],
          [
           0.375,
           "rgb(252,146,114)"
          ],
          [
           0.5,
           "rgb(251,106,74)"
          ],
          [
           0.625,
           "rgb(239,59,44)"
          ],
          [
           0.75,
           "rgb(203,24,29)"
          ],
          [
           0.875,
           "rgb(165,15,21)"
          ],
          [
           1,
           "rgb(103,0,13)"
          ]
         ]
        },
        "geo": {
         "center": {},
         "domain": {
          "x": [
           0,
           1
          ],
          "y": [
           0,
           1
          ]
         },
         "projection": {
          "type": "orthographic"
         }
        },
        "height": 500,
        "legend": {
         "itemsizing": "constant",
         "tracegroupgap": 0
        },
        "template": {
         "data": {
          "bar": [
           {
            "error_x": {
             "color": "#2a3f5f"
            },
            "error_y": {
             "color": "#2a3f5f"
            },
            "marker": {
             "line": {
              "color": "#E5ECF6",
              "width": 0.5
             },
             "pattern": {
              "fillmode": "overlay",
              "size": 10,
              "solidity": 0.2
             }
            },
            "type": "bar"
           }
          ],
          "barpolar": [
           {
            "marker": {
             "line": {
              "color": "#E5ECF6",
              "width": 0.5
             },
             "pattern": {
              "fillmode": "overlay",
              "size": 10,
              "solidity": 0.2
             }
            },
            "type": "barpolar"
           }
          ],
          "carpet": [
           {
            "aaxis": {
             "endlinecolor": "#2a3f5f",
             "gridcolor": "white",
             "linecolor": "white",
             "minorgridcolor": "white",
             "startlinecolor": "#2a3f5f"
            },
            "baxis": {
             "endlinecolor": "#2a3f5f",
             "gridcolor": "white",
             "linecolor": "white",
             "minorgridcolor": "white",
             "startlinecolor": "#2a3f5f"
            },
            "type": "carpet"
           }
          ],
          "choropleth": [
           {
            "colorbar": {
             "outlinewidth": 0,
             "ticks": ""
            },
            "type": "choropleth"
           }
          ],
          "contour": [
           {
            "colorbar": {
             "outlinewidth": 0,
             "ticks": ""
            },
            "colorscale": [
             [
              0,
              "#0d0887"
             ],
             [
              0.1111111111111111,
              "#46039f"
             ],
             [
              0.2222222222222222,
              "#7201a8"
             ],
             [
              0.3333333333333333,
              "#9c179e"
             ],
             [
              0.4444444444444444,
              "#bd3786"
             ],
             [
              0.5555555555555556,
              "#d8576b"
             ],
             [
              0.6666666666666666,
              "#ed7953"
             ],
             [
              0.7777777777777778,
              "#fb9f3a"
             ],
             [
              0.8888888888888888,
              "#fdca26"
             ],
             [
              1,
              "#f0f921"
             ]
            ],
            "type": "contour"
           }
          ],
          "contourcarpet": [
           {
            "colorbar": {
             "outlinewidth": 0,
             "ticks": ""
            },
            "type": "contourcarpet"
           }
          ],
          "heatmap": [
           {
            "colorbar": {
             "outlinewidth": 0,
             "ticks": ""
            },
            "colorscale": [
             [
              0,
              "#0d0887"
             ],
             [
              0.1111111111111111,
              "#46039f"
             ],
             [
              0.2222222222222222,
              "#7201a8"
             ],
             [
              0.3333333333333333,
              "#9c179e"
             ],
             [
              0.4444444444444444,
              "#bd3786"
             ],
             [
              0.5555555555555556,
              "#d8576b"
             ],
             [
              0.6666666666666666,
              "#ed7953"
             ],
             [
              0.7777777777777778,
              "#fb9f3a"
             ],
             [
              0.8888888888888888,
              "#fdca26"
             ],
             [
              1,
              "#f0f921"
             ]
            ],
            "type": "heatmap"
           }
          ],
          "histogram": [
           {
            "marker": {
             "pattern": {
              "fillmode": "overlay",
              "size": 10,
              "solidity": 0.2
             }
            },
            "type": "histogram"
           }
          ],
          "histogram2d": [
           {
            "colorbar": {
             "outlinewidth": 0,
             "ticks": ""
            },
            "colorscale": [
             [
              0,
              "#0d0887"
             ],
             [
              0.1111111111111111,
              "#46039f"
             ],
             [
              0.2222222222222222,
              "#7201a8"
             ],
             [
              0.3333333333333333,
              "#9c179e"
             ],
             [
              0.4444444444444444,
              "#bd3786"
             ],
             [
              0.5555555555555556,
              "#d8576b"
             ],
             [
              0.6666666666666666,
              "#ed7953"
             ],
             [
              0.7777777777777778,
              "#fb9f3a"
             ],
             [
              0.8888888888888888,
              "#fdca26"
             ],
             [
              1,
              "#f0f921"
             ]
            ],
            "type": "histogram2d"
           }
          ],
          "histogram2dcontour": [
           {
            "colorbar": {
             "outlinewidth": 0,
             "ticks": ""
            },
            "colorscale": [
             [
              0,
              "#0d0887"
             ],
             [
              0.1111111111111111,
              "#46039f"
             ],
             [
              0.2222222222222222,
              "#7201a8"
             ],
             [
              0.3333333333333333,
              "#9c179e"
             ],
             [
              0.4444444444444444,
              "#bd3786"
             ],
             [
              0.5555555555555556,
              "#d8576b"
             ],
             [
              0.6666666666666666,
              "#ed7953"
             ],
             [
              0.7777777777777778,
              "#fb9f3a"
             ],
             [
              0.8888888888888888,
              "#fdca26"
             ],
             [
              1,
              "#f0f921"
             ]
            ],
            "type": "histogram2dcontour"
           }
          ],
          "mesh3d": [
           {
            "colorbar": {
             "outlinewidth": 0,
             "ticks": ""
            },
            "type": "mesh3d"
           }
          ],
          "parcoords": [
           {
            "line": {
             "colorbar": {
              "outlinewidth": 0,
              "ticks": ""
             }
            },
            "type": "parcoords"
           }
          ],
          "pie": [
           {
            "automargin": true,
            "type": "pie"
           }
          ],
          "scatter": [
           {
            "fillpattern": {
             "fillmode": "overlay",
             "size": 10,
             "solidity": 0.2
            },
            "type": "scatter"
           }
          ],
          "scatter3d": [
           {
            "line": {
             "colorbar": {
              "outlinewidth": 0,
              "ticks": ""
             }
            },
            "marker": {
             "colorbar": {
              "outlinewidth": 0,
              "ticks": ""
             }
            },
            "type": "scatter3d"
           }
          ],
          "scattercarpet": [
           {
            "marker": {
             "colorbar": {
              "outlinewidth": 0,
              "ticks": ""
             }
            },
            "type": "scattercarpet"
           }
          ],
          "scattergeo": [
           {
            "marker": {
             "colorbar": {
              "outlinewidth": 0,
              "ticks": ""
             }
            },
            "type": "scattergeo"
           }
          ],
          "scattergl": [
           {
            "marker": {
             "colorbar": {
              "outlinewidth": 0,
              "ticks": ""
             }
            },
            "type": "scattergl"
           }
          ],
          "scattermap": [
           {
            "marker": {
             "colorbar": {
              "outlinewidth": 0,
              "ticks": ""
             }
            },
            "type": "scattermap"
           }
          ],
          "scattermapbox": [
           {
            "marker": {
             "colorbar": {
              "outlinewidth": 0,
              "ticks": ""
             }
            },
            "type": "scattermapbox"
           }
          ],
          "scatterpolar": [
           {
            "marker": {
             "colorbar": {
              "outlinewidth": 0,
              "ticks": ""
             }
            },
            "type": "scatterpolar"
           }
          ],
          "scatterpolargl": [
           {
            "marker": {
             "colorbar": {
              "outlinewidth": 0,
              "ticks": ""
             }
            },
            "type": "scatterpolargl"
           }
          ],
          "scatterternary": [
           {
            "marker": {
             "colorbar": {
              "outlinewidth": 0,
              "ticks": ""
             }
            },
            "type": "scatterternary"
           }
          ],
          "surface": [
           {
            "colorbar": {
             "outlinewidth": 0,
             "ticks": ""
            },
            "colorscale": [
             [
              0,
              "#0d0887"
             ],
             [
              0.1111111111111111,
              "#46039f"
             ],
             [
              0.2222222222222222,
              "#7201a8"
             ],
             [
              0.3333333333333333,
              "#9c179e"
             ],
             [
              0.4444444444444444,
              "#bd3786"
             ],
             [
              0.5555555555555556,
              "#d8576b"
             ],
             [
              0.6666666666666666,
              "#ed7953"
             ],
             [
              0.7777777777777778,
              "#fb9f3a"
             ],
             [
              0.8888888888888888,
              "#fdca26"
             ],
             [
              1,
              "#f0f921"
             ]
            ],
            "type": "surface"
           }
          ],
          "table": [
           {
            "cells": {
             "fill": {
              "color": "#EBF0F8"
             },
             "line": {
              "color": "white"
             }
            },
            "header": {
             "fill": {
              "color": "#C8D4E3"
             },
             "line": {
              "color": "white"
             }
            },
            "type": "table"
           }
          ]
         },
         "layout": {
          "annotationdefaults": {
           "arrowcolor": "#2a3f5f",
           "arrowhead": 0,
           "arrowwidth": 1
          },
          "autotypenumbers": "strict",
          "coloraxis": {
           "colorbar": {
            "outlinewidth": 0,
            "ticks": ""
           }
          },
          "colorscale": {
           "diverging": [
            [
             0,
             "#8e0152"
            ],
            [
             0.1,
             "#c51b7d"
            ],
            [
             0.2,
             "#de77ae"
            ],
            [
             0.3,
             "#f1b6da"
            ],
            [
             0.4,
             "#fde0ef"
            ],
            [
             0.5,
             "#f7f7f7"
            ],
            [
             0.6,
             "#e6f5d0"
            ],
            [
             0.7,
             "#b8e186"
            ],
            [
             0.8,
             "#7fbc41"
            ],
            [
             0.9,
             "#4d9221"
            ],
            [
             1,
             "#276419"
            ]
           ],
           "sequential": [
            [
             0,
             "#0d0887"
            ],
            [
             0.1111111111111111,
             "#46039f"
            ],
            [
             0.2222222222222222,
             "#7201a8"
            ],
            [
             0.3333333333333333,
             "#9c179e"
            ],
            [
             0.4444444444444444,
             "#bd3786"
            ],
            [
             0.5555555555555556,
             "#d8576b"
            ],
            [
             0.6666666666666666,
             "#ed7953"
            ],
            [
             0.7777777777777778,
             "#fb9f3a"
            ],
            [
             0.8888888888888888,
             "#fdca26"
            ],
            [
             1,
             "#f0f921"
            ]
           ],
           "sequentialminus": [
            [
             0,
             "#0d0887"
            ],
            [
             0.1111111111111111,
             "#46039f"
            ],
            [
             0.2222222222222222,
             "#7201a8"
            ],
            [
             0.3333333333333333,
             "#9c179e"
            ],
            [
             0.4444444444444444,
             "#bd3786"
            ],
            [
             0.5555555555555556,
             "#d8576b"
            ],
            [
             0.6666666666666666,
             "#ed7953"
            ],
            [
             0.7777777777777778,
             "#fb9f3a"
            ],
            [
             0.8888888888888888,
             "#fdca26"
            ],
            [
             1,
             "#f0f921"
            ]
           ]
          },
          "colorway": [
           "#636efa",
           "#EF553B",
           "#00cc96",
           "#ab63fa",
           "#FFA15A",
           "#19d3f3",
           "#FF6692",
           "#B6E880",
           "#FF97FF",
           "#FECB52"
          ],
          "font": {
           "color": "#2a3f5f"
          },
          "geo": {
           "bgcolor": "white",
           "lakecolor": "white",
           "landcolor": "#E5ECF6",
           "showlakes": true,
           "showland": true,
           "subunitcolor": "white"
          },
          "hoverlabel": {
           "align": "left"
          },
          "hovermode": "closest",
          "mapbox": {
           "style": "light"
          },
          "paper_bgcolor": "white",
          "plot_bgcolor": "#E5ECF6",
          "polar": {
           "angularaxis": {
            "gridcolor": "white",
            "linecolor": "white",
            "ticks": ""
           },
           "bgcolor": "#E5ECF6",
           "radialaxis": {
            "gridcolor": "white",
            "linecolor": "white",
            "ticks": ""
           }
          },
          "scene": {
           "xaxis": {
            "backgroundcolor": "#E5ECF6",
            "gridcolor": "white",
            "gridwidth": 2,
            "linecolor": "white",
            "showbackground": true,
            "ticks": "",
            "zerolinecolor": "white"
           },
           "yaxis": {
            "backgroundcolor": "#E5ECF6",
            "gridcolor": "white",
            "gridwidth": 2,
            "linecolor": "white",
            "showbackground": true,
            "ticks": "",
            "zerolinecolor": "white"
           },
           "zaxis": {
            "backgroundcolor": "#E5ECF6",
            "gridcolor": "white",
            "gridwidth": 2,
            "linecolor": "white",
            "showbackground": true,
            "ticks": "",
            "zerolinecolor": "white"
           }
          },
          "shapedefaults": {
           "line": {
            "color": "#2a3f5f"
           }
          },
          "ternary": {
           "aaxis": {
            "gridcolor": "white",
            "linecolor": "white",
            "ticks": ""
           },
           "baxis": {
            "gridcolor": "white",
            "linecolor": "white",
            "ticks": ""
           },
           "bgcolor": "#E5ECF6",
           "caxis": {
            "gridcolor": "white",
            "linecolor": "white",
            "ticks": ""
           }
          },
          "title": {
           "x": 0.05
          },
          "xaxis": {
           "automargin": true,
           "gridcolor": "white",
           "linecolor": "white",
           "ticks": "",
           "title": {
            "standoff": 15
           },
           "zerolinecolor": "white",
           "zerolinewidth": 2
          },
          "yaxis": {
           "automargin": true,
           "gridcolor": "white",
           "linecolor": "white",
           "ticks": "",
           "title": {
            "standoff": 15
           },
           "zerolinecolor": "white",
           "zerolinewidth": 2
          }
         }
        },
        "title": {
         "text": "Global Suicide Rates (per 100K)"
        },
        "width": 900
       }
      },
      "text/html": [
       "<div>            <script src=\"https://cdnjs.cloudflare.com/ajax/libs/mathjax/2.7.5/MathJax.js?config=TeX-AMS-MML_SVG\"></script><script type=\"text/javascript\">if (window.MathJax && window.MathJax.Hub && window.MathJax.Hub.Config) {window.MathJax.Hub.Config({SVG: {font: \"STIX-Web\"}});}</script>                <script type=\"text/javascript\">window.PlotlyConfig = {MathJaxConfig: 'local'};</script>\n",
       "        <script charset=\"utf-8\" src=\"https://cdn.plot.ly/plotly-3.0.0.min.js\"></script>                <div id=\"a2c22ef7-7a95-446f-a51e-0fa91a7e4395\" class=\"plotly-graph-div\" style=\"height:500px; width:900px;\"></div>            <script type=\"text/javascript\">                window.PLOTLYENV=window.PLOTLYENV || {};                                if (document.getElementById(\"a2c22ef7-7a95-446f-a51e-0fa91a7e4395\")) {                    Plotly.newPlot(                        \"a2c22ef7-7a95-446f-a51e-0fa91a7e4395\",                        [{\"geo\":\"geo\",\"hovertemplate\":\"\\u003cb\\u003e%{hovertext}\\u003c\\u002fb\\u003e\\u003cbr\\u003e\\u003cbr\\u003eDeathRatePer100K=%{marker.color}\\u003cbr\\u003eCountryName=%{location}\\u003cextra\\u003e\\u003c\\u002fextra\\u003e\",\"hovertext\":[\"Albania\",\"Antigua and Barbuda\",\"Argentina\",\"Armenia\",\"Australia\",\"Austria\",\"Azerbaijan\",\"Bahamas\",\"Bahrain\",\"Barbados\",\"Belarus\",\"Belgium\",\"Belize\",\"Bosnia and Herzegovina\",\"Brazil\",\"Brunei Darussalam\",\"Bulgaria\",\"Cabo Verde\",\"Canada\",\"Chile\",\"China, Hong Kong SAR\",\"Colombia\",\"Costa Rica\",\"Croatia\",\"Cuba\",\"Cyprus\",\"Czechia\",\"Denmark\",\"Dominica\",\"Dominican Republic\",\"Ecuador\",\"Egypt\",\"El Salvador\",\"Estonia\",\"Fiji\",\"Finland\",\"France\",\"French Guiana\",\"Georgia\",\"Germany\",\"Greece\",\"Grenada\",\"Guadeloupe\",\"Guatemala\",\"Guyana\",\"Hungary\",\"Iceland\",\"Iran (Islamic Republic of)\",\"Iraq\",\"Ireland\",\"Israel\",\"Italy\",\"Jamaica\",\"Japan\",\"Jordan\",\"Kazakhstan\",\"Kuwait\",\"Kyrgyzstan\",\"Latvia\",\"Lebanon\",\"Lithuania\",\"Luxembourg\",\"Malaysia\",\"Maldives\",\"Malta\",\"Martinique\",\"Mauritius\",\"Mayotte\",\"Mexico\",\"Mongolia\",\"Montenegro\",\"Netherlands\",\"New Zealand\",\"Nicaragua\",\"North Macedonia\",\"Norway\",\"Oman\",\"Panama\",\"Paraguay\",\"Peru\",\"Philippines\",\"Poland\",\"Portugal\",\"Puerto Rico\",\"Qatar\",\"R?union\",\"Republic of Korea\",\"Republic of Moldova\",\"Romania\",\"Russian Federation\",\"Saint Kitts and Nevis\",\"Saint Lucia\",\"Saint Vincent and the Grenadines\",\"Serbia\",\"Seychelles\",\"Singapore\",\"Slovakia\",\"Slovenia\",\"South Africa\",\"Spain\",\"Sri Lanka\",\"Suriname\",\"Sweden\",\"Switzerland\",\"Syrian Arab Republic\",\"T?rkiye\",\"Tajikistan\",\"Thailand\",\"Trinidad and Tobago\",\"Turkmenistan\",\"Ukraine\",\"United Arab Emirates\",\"United Kingdom of Great Britain and Northern Ireland\",\"United States of America\",\"Uruguay\",\"Uzbekistan\",\"Venezuela (Bolivarian Republic of)\"],\"legendgroup\":\"\",\"locationmode\":\"country names\",\"locations\":[\"Albania\",\"Antigua and Barbuda\",\"Argentina\",\"Armenia\",\"Australia\",\"Austria\",\"Azerbaijan\",\"Bahamas\",\"Bahrain\",\"Barbados\",\"Belarus\",\"Belgium\",\"Belize\",\"Bosnia and Herzegovina\",\"Brazil\",\"Brunei Darussalam\",\"Bulgaria\",\"Cabo Verde\",\"Canada\",\"Chile\",\"China, Hong Kong SAR\",\"Colombia\",\"Costa Rica\",\"Croatia\",\"Cuba\",\"Cyprus\",\"Czechia\",\"Denmark\",\"Dominica\",\"Dominican Republic\",\"Ecuador\",\"Egypt\",\"El Salvador\",\"Estonia\",\"Fiji\",\"Finland\",\"France\",\"French Guiana\",\"Georgia\",\"Germany\",\"Greece\",\"Grenada\",\"Guadeloupe\",\"Guatemala\",\"Guyana\",\"Hungary\",\"Iceland\",\"Iran (Islamic Republic of)\",\"Iraq\",\"Ireland\",\"Israel\",\"Italy\",\"Jamaica\",\"Japan\",\"Jordan\",\"Kazakhstan\",\"Kuwait\",\"Kyrgyzstan\",\"Latvia\",\"Lebanon\",\"Lithuania\",\"Luxembourg\",\"Malaysia\",\"Maldives\",\"Malta\",\"Martinique\",\"Mauritius\",\"Mayotte\",\"Mexico\",\"Mongolia\",\"Montenegro\",\"Netherlands\",\"New Zealand\",\"Nicaragua\",\"North Macedonia\",\"Norway\",\"Oman\",\"Panama\",\"Paraguay\",\"Peru\",\"Philippines\",\"Poland\",\"Portugal\",\"Puerto Rico\",\"Qatar\",\"R?union\",\"Republic of Korea\",\"Republic of Moldova\",\"Romania\",\"Russian Federation\",\"Saint Kitts and Nevis\",\"Saint Lucia\",\"Saint Vincent and the Grenadines\",\"Serbia\",\"Seychelles\",\"Singapore\",\"Slovakia\",\"Slovenia\",\"South Africa\",\"Spain\",\"Sri Lanka\",\"Suriname\",\"Sweden\",\"Switzerland\",\"Syrian Arab Republic\",\"T?rkiye\",\"Tajikistan\",\"Thailand\",\"Trinidad and Tobago\",\"Turkmenistan\",\"Ukraine\",\"United Arab Emirates\",\"United Kingdom of Great Britain and Northern Ireland\",\"United States of America\",\"Uruguay\",\"Uzbekistan\",\"Venezuela (Bolivarian Republic of)\"],\"marker\":{\"color\":{\"dtype\":\"f8\",\"bdata\":\"KLagoV0jFEDaJVipf44KQFBWBgUKSSZArhlLqgKlEkAdfop9CvsqQCLckdEH9DdAV5dvJftXB0DbdqtUFjMQQGxkerZBbRFAXnYXskM8G0A\\u002f+DyYUcdAQPqHVqPf2TVAGPHHkHW2KECWV0KdFC4qQLPRfwSDfx1APYCiKz+kGEBTINx66f8zQFRTG6t6UTZAnO+keNfKKEAqZO+NHGInQEw4g+YJqzJA80FDJ1fFGUAvJ91+nZsgQEtt0G0aujpAYk\\u002fqNcNLN0B14aYlN7gWQHKYEgkFJjRAKfGkEDJMMUDrxkA\\u002ffpkoQNAEnaQa0hZAjGJsdEXTG0C15LJFlxnwP1FBDZvqHyVAdI0brv8tPkAds6Rg1SciQEMT5wTl7zVA8jsvzC2bNUCiNjvf3IgmQCuGtGUYRRlAI+IxmY\\u002fJMEBzOK1X\\u002fLYUQBZcRFGkkhNAvokPtBlJI0DUD0mwAkgQQE\\u002fTnwQkdDtAopCEzVJfQkCBW3hBjJEuQF1FVLUkcRRAlwakHLod\\u002fz+arOfHmZ4mQAo9YVoVyyJAFU14Ibs\\u002fIkAmxHROhOsAQKIV+otUvzVAC0q3aLis+j8N08CfiDk8QKBDF3FUxgRAOh+WJiU3LUBYHuvebGFAQM+7A1dU+\\u002fg\\u002f0dfUG+xuREDQqTEj3+AxQGxav8lJgPM\\u002fPxe6lFn9CEDzVBLO\\u002fo8hQBgkYLxSdyNAgXv9zya5KUBj6fp8h\\u002fwCQFnYpK025BlAXapd7e\\u002fqLkCaDx\\u002flagY5QAtQ\\u002fXJ8XCdA6EOpZr3\\u002fK0DdqBODokUeQK1Yco6j4ilAPdu3QWvCKkCc+XFUuNADQHb\\u002fSkkg4xtAFyTVyBL2GUD1XrPuHAcBQGIsngyOaglAbwaAU+EDMECH4lC2lTcqQLVDfnbjCSdAKd7Dq7s2D0DCLlgqlhIpQDyDeSYH9T5A7d6Rs+IwNUAXf8wYArMrQBRXuqcPbEBA68ZAP36ZKEAicjHg+3gpQIRFn5uGLiZAFNiOLO5BOEBMPw7tcbMmQBehVUx0QDBABXMlQIcxLUCi4NoOjx5AQEB3+2x1zgVAJAHQXlEJJUCQMXTDx508QBRWYSxZfzhAtMW0B4WGLkDSf01\\u002f\\u002fi01QEDvWASIfPU\\u002fZcMg5k\\u002fcDECKyUKo6YcXQDlk+C2p7x5A+5Ff+UEGMEAdne++MekhQDDU6tGihDtAQj2DhRskAEAfzCpH4DIgQIDGuhrEiSxAEcvQcbPfNkBb0x92uM8gQBIaLzEe+xlA\"},\"coloraxis\":\"coloraxis\",\"size\":{\"dtype\":\"f8\",\"bdata\":\"KLagoV0jFEDaJVipf44KQFBWBgUKSSZArhlLqgKlEkAdfop9CvsqQCLckdEH9DdAV5dvJftXB0DbdqtUFjMQQGxkerZBbRFAXnYXskM8G0A\\u002f+DyYUcdAQPqHVqPf2TVAGPHHkHW2KECWV0KdFC4qQLPRfwSDfx1APYCiKz+kGEBTINx66f8zQFRTG6t6UTZAnO+keNfKKEAqZO+NHGInQEw4g+YJqzJA80FDJ1fFGUAvJ91+nZsgQEtt0G0aujpAYk\\u002fqNcNLN0B14aYlN7gWQHKYEgkFJjRAKfGkEDJMMUDrxkA\\u002ffpkoQNAEnaQa0hZAjGJsdEXTG0C15LJFlxnwP1FBDZvqHyVAdI0brv8tPkAds6Rg1SciQEMT5wTl7zVA8jsvzC2bNUCiNjvf3IgmQCuGtGUYRRlAI+IxmY\\u002fJMEBzOK1X\\u002fLYUQBZcRFGkkhNAvokPtBlJI0DUD0mwAkgQQE\\u002fTnwQkdDtAopCEzVJfQkCBW3hBjJEuQF1FVLUkcRRAlwakHLod\\u002fz+arOfHmZ4mQAo9YVoVyyJAFU14Ibs\\u002fIkAmxHROhOsAQKIV+otUvzVAC0q3aLis+j8N08CfiDk8QKBDF3FUxgRAOh+WJiU3LUBYHuvebGFAQM+7A1dU+\\u002fg\\u002f0dfUG+xuREDQqTEj3+AxQGxav8lJgPM\\u002fPxe6lFn9CEDzVBLO\\u002fo8hQBgkYLxSdyNAgXv9zya5KUBj6fp8h\\u002fwCQFnYpK025BlAXapd7e\\u002fqLkCaDx\\u002flagY5QAtQ\\u002fXJ8XCdA6EOpZr3\\u002fK0DdqBODokUeQK1Yco6j4ilAPdu3QWvCKkCc+XFUuNADQHb\\u002fSkkg4xtAFyTVyBL2GUD1XrPuHAcBQGIsngyOaglAbwaAU+EDMECH4lC2lTcqQLVDfnbjCSdAKd7Dq7s2D0DCLlgqlhIpQDyDeSYH9T5A7d6Rs+IwNUAXf8wYArMrQBRXuqcPbEBA68ZAP36ZKEAicjHg+3gpQIRFn5uGLiZAFNiOLO5BOEBMPw7tcbMmQBehVUx0QDBABXMlQIcxLUCi4NoOjx5AQEB3+2x1zgVAJAHQXlEJJUCQMXTDx508QBRWYSxZfzhAtMW0B4WGLkDSf01\\u002f\\u002fi01QEDvWASIfPU\\u002fZcMg5k\\u002fcDECKyUKo6YcXQDlk+C2p7x5A+5Ff+UEGMEAdne++MekhQDDU6tGihDtAQj2DhRskAEAfzCpH4DIgQIDGuhrEiSxAEcvQcbPfNkBb0x92uM8gQBIaLzEe+xlA\"},\"sizemode\":\"area\",\"sizeref\":1,\"symbol\":\"circle\"},\"mode\":\"markers\",\"name\":\"\",\"showlegend\":false,\"type\":\"scattergeo\"}],                        {\"template\":{\"data\":{\"histogram2dcontour\":[{\"type\":\"histogram2dcontour\",\"colorbar\":{\"outlinewidth\":0,\"ticks\":\"\"},\"colorscale\":[[0.0,\"#0d0887\"],[0.1111111111111111,\"#46039f\"],[0.2222222222222222,\"#7201a8\"],[0.3333333333333333,\"#9c179e\"],[0.4444444444444444,\"#bd3786\"],[0.5555555555555556,\"#d8576b\"],[0.6666666666666666,\"#ed7953\"],[0.7777777777777778,\"#fb9f3a\"],[0.8888888888888888,\"#fdca26\"],[1.0,\"#f0f921\"]]}],\"choropleth\":[{\"type\":\"choropleth\",\"colorbar\":{\"outlinewidth\":0,\"ticks\":\"\"}}],\"histogram2d\":[{\"type\":\"histogram2d\",\"colorbar\":{\"outlinewidth\":0,\"ticks\":\"\"},\"colorscale\":[[0.0,\"#0d0887\"],[0.1111111111111111,\"#46039f\"],[0.2222222222222222,\"#7201a8\"],[0.3333333333333333,\"#9c179e\"],[0.4444444444444444,\"#bd3786\"],[0.5555555555555556,\"#d8576b\"],[0.6666666666666666,\"#ed7953\"],[0.7777777777777778,\"#fb9f3a\"],[0.8888888888888888,\"#fdca26\"],[1.0,\"#f0f921\"]]}],\"heatmap\":[{\"type\":\"heatmap\",\"colorbar\":{\"outlinewidth\":0,\"ticks\":\"\"},\"colorscale\":[[0.0,\"#0d0887\"],[0.1111111111111111,\"#46039f\"],[0.2222222222222222,\"#7201a8\"],[0.3333333333333333,\"#9c179e\"],[0.4444444444444444,\"#bd3786\"],[0.5555555555555556,\"#d8576b\"],[0.6666666666666666,\"#ed7953\"],[0.7777777777777778,\"#fb9f3a\"],[0.8888888888888888,\"#fdca26\"],[1.0,\"#f0f921\"]]}],\"contourcarpet\":[{\"type\":\"contourcarpet\",\"colorbar\":{\"outlinewidth\":0,\"ticks\":\"\"}}],\"contour\":[{\"type\":\"contour\",\"colorbar\":{\"outlinewidth\":0,\"ticks\":\"\"},\"colorscale\":[[0.0,\"#0d0887\"],[0.1111111111111111,\"#46039f\"],[0.2222222222222222,\"#7201a8\"],[0.3333333333333333,\"#9c179e\"],[0.4444444444444444,\"#bd3786\"],[0.5555555555555556,\"#d8576b\"],[0.6666666666666666,\"#ed7953\"],[0.7777777777777778,\"#fb9f3a\"],[0.8888888888888888,\"#fdca26\"],[1.0,\"#f0f921\"]]}],\"surface\":[{\"type\":\"surface\",\"colorbar\":{\"outlinewidth\":0,\"ticks\":\"\"},\"colorscale\":[[0.0,\"#0d0887\"],[0.1111111111111111,\"#46039f\"],[0.2222222222222222,\"#7201a8\"],[0.3333333333333333,\"#9c179e\"],[0.4444444444444444,\"#bd3786\"],[0.5555555555555556,\"#d8576b\"],[0.6666666666666666,\"#ed7953\"],[0.7777777777777778,\"#fb9f3a\"],[0.8888888888888888,\"#fdca26\"],[1.0,\"#f0f921\"]]}],\"mesh3d\":[{\"type\":\"mesh3d\",\"colorbar\":{\"outlinewidth\":0,\"ticks\":\"\"}}],\"scatter\":[{\"fillpattern\":{\"fillmode\":\"overlay\",\"size\":10,\"solidity\":0.2},\"type\":\"scatter\"}],\"parcoords\":[{\"type\":\"parcoords\",\"line\":{\"colorbar\":{\"outlinewidth\":0,\"ticks\":\"\"}}}],\"scatterpolargl\":[{\"type\":\"scatterpolargl\",\"marker\":{\"colorbar\":{\"outlinewidth\":0,\"ticks\":\"\"}}}],\"bar\":[{\"error_x\":{\"color\":\"#2a3f5f\"},\"error_y\":{\"color\":\"#2a3f5f\"},\"marker\":{\"line\":{\"color\":\"#E5ECF6\",\"width\":0.5},\"pattern\":{\"fillmode\":\"overlay\",\"size\":10,\"solidity\":0.2}},\"type\":\"bar\"}],\"scattergeo\":[{\"type\":\"scattergeo\",\"marker\":{\"colorbar\":{\"outlinewidth\":0,\"ticks\":\"\"}}}],\"scatterpolar\":[{\"type\":\"scatterpolar\",\"marker\":{\"colorbar\":{\"outlinewidth\":0,\"ticks\":\"\"}}}],\"histogram\":[{\"marker\":{\"pattern\":{\"fillmode\":\"overlay\",\"size\":10,\"solidity\":0.2}},\"type\":\"histogram\"}],\"scattergl\":[{\"type\":\"scattergl\",\"marker\":{\"colorbar\":{\"outlinewidth\":0,\"ticks\":\"\"}}}],\"scatter3d\":[{\"type\":\"scatter3d\",\"line\":{\"colorbar\":{\"outlinewidth\":0,\"ticks\":\"\"}},\"marker\":{\"colorbar\":{\"outlinewidth\":0,\"ticks\":\"\"}}}],\"scattermap\":[{\"type\":\"scattermap\",\"marker\":{\"colorbar\":{\"outlinewidth\":0,\"ticks\":\"\"}}}],\"scattermapbox\":[{\"type\":\"scattermapbox\",\"marker\":{\"colorbar\":{\"outlinewidth\":0,\"ticks\":\"\"}}}],\"scatterternary\":[{\"type\":\"scatterternary\",\"marker\":{\"colorbar\":{\"outlinewidth\":0,\"ticks\":\"\"}}}],\"scattercarpet\":[{\"type\":\"scattercarpet\",\"marker\":{\"colorbar\":{\"outlinewidth\":0,\"ticks\":\"\"}}}],\"carpet\":[{\"aaxis\":{\"endlinecolor\":\"#2a3f5f\",\"gridcolor\":\"white\",\"linecolor\":\"white\",\"minorgridcolor\":\"white\",\"startlinecolor\":\"#2a3f5f\"},\"baxis\":{\"endlinecolor\":\"#2a3f5f\",\"gridcolor\":\"white\",\"linecolor\":\"white\",\"minorgridcolor\":\"white\",\"startlinecolor\":\"#2a3f5f\"},\"type\":\"carpet\"}],\"table\":[{\"cells\":{\"fill\":{\"color\":\"#EBF0F8\"},\"line\":{\"color\":\"white\"}},\"header\":{\"fill\":{\"color\":\"#C8D4E3\"},\"line\":{\"color\":\"white\"}},\"type\":\"table\"}],\"barpolar\":[{\"marker\":{\"line\":{\"color\":\"#E5ECF6\",\"width\":0.5},\"pattern\":{\"fillmode\":\"overlay\",\"size\":10,\"solidity\":0.2}},\"type\":\"barpolar\"}],\"pie\":[{\"automargin\":true,\"type\":\"pie\"}]},\"layout\":{\"autotypenumbers\":\"strict\",\"colorway\":[\"#636efa\",\"#EF553B\",\"#00cc96\",\"#ab63fa\",\"#FFA15A\",\"#19d3f3\",\"#FF6692\",\"#B6E880\",\"#FF97FF\",\"#FECB52\"],\"font\":{\"color\":\"#2a3f5f\"},\"hovermode\":\"closest\",\"hoverlabel\":{\"align\":\"left\"},\"paper_bgcolor\":\"white\",\"plot_bgcolor\":\"#E5ECF6\",\"polar\":{\"bgcolor\":\"#E5ECF6\",\"angularaxis\":{\"gridcolor\":\"white\",\"linecolor\":\"white\",\"ticks\":\"\"},\"radialaxis\":{\"gridcolor\":\"white\",\"linecolor\":\"white\",\"ticks\":\"\"}},\"ternary\":{\"bgcolor\":\"#E5ECF6\",\"aaxis\":{\"gridcolor\":\"white\",\"linecolor\":\"white\",\"ticks\":\"\"},\"baxis\":{\"gridcolor\":\"white\",\"linecolor\":\"white\",\"ticks\":\"\"},\"caxis\":{\"gridcolor\":\"white\",\"linecolor\":\"white\",\"ticks\":\"\"}},\"coloraxis\":{\"colorbar\":{\"outlinewidth\":0,\"ticks\":\"\"}},\"colorscale\":{\"sequential\":[[0.0,\"#0d0887\"],[0.1111111111111111,\"#46039f\"],[0.2222222222222222,\"#7201a8\"],[0.3333333333333333,\"#9c179e\"],[0.4444444444444444,\"#bd3786\"],[0.5555555555555556,\"#d8576b\"],[0.6666666666666666,\"#ed7953\"],[0.7777777777777778,\"#fb9f3a\"],[0.8888888888888888,\"#fdca26\"],[1.0,\"#f0f921\"]],\"sequentialminus\":[[0.0,\"#0d0887\"],[0.1111111111111111,\"#46039f\"],[0.2222222222222222,\"#7201a8\"],[0.3333333333333333,\"#9c179e\"],[0.4444444444444444,\"#bd3786\"],[0.5555555555555556,\"#d8576b\"],[0.6666666666666666,\"#ed7953\"],[0.7777777777777778,\"#fb9f3a\"],[0.8888888888888888,\"#fdca26\"],[1.0,\"#f0f921\"]],\"diverging\":[[0,\"#8e0152\"],[0.1,\"#c51b7d\"],[0.2,\"#de77ae\"],[0.3,\"#f1b6da\"],[0.4,\"#fde0ef\"],[0.5,\"#f7f7f7\"],[0.6,\"#e6f5d0\"],[0.7,\"#b8e186\"],[0.8,\"#7fbc41\"],[0.9,\"#4d9221\"],[1,\"#276419\"]]},\"xaxis\":{\"gridcolor\":\"white\",\"linecolor\":\"white\",\"ticks\":\"\",\"title\":{\"standoff\":15},\"zerolinecolor\":\"white\",\"automargin\":true,\"zerolinewidth\":2},\"yaxis\":{\"gridcolor\":\"white\",\"linecolor\":\"white\",\"ticks\":\"\",\"title\":{\"standoff\":15},\"zerolinecolor\":\"white\",\"automargin\":true,\"zerolinewidth\":2},\"scene\":{\"xaxis\":{\"backgroundcolor\":\"#E5ECF6\",\"gridcolor\":\"white\",\"linecolor\":\"white\",\"showbackground\":true,\"ticks\":\"\",\"zerolinecolor\":\"white\",\"gridwidth\":2},\"yaxis\":{\"backgroundcolor\":\"#E5ECF6\",\"gridcolor\":\"white\",\"linecolor\":\"white\",\"showbackground\":true,\"ticks\":\"\",\"zerolinecolor\":\"white\",\"gridwidth\":2},\"zaxis\":{\"backgroundcolor\":\"#E5ECF6\",\"gridcolor\":\"white\",\"linecolor\":\"white\",\"showbackground\":true,\"ticks\":\"\",\"zerolinecolor\":\"white\",\"gridwidth\":2}},\"shapedefaults\":{\"line\":{\"color\":\"#2a3f5f\"}},\"annotationdefaults\":{\"arrowcolor\":\"#2a3f5f\",\"arrowhead\":0,\"arrowwidth\":1},\"geo\":{\"bgcolor\":\"white\",\"landcolor\":\"#E5ECF6\",\"subunitcolor\":\"white\",\"showland\":true,\"showlakes\":true,\"lakecolor\":\"white\"},\"title\":{\"x\":0.05},\"mapbox\":{\"style\":\"light\"}}},\"geo\":{\"domain\":{\"x\":[0.0,1.0],\"y\":[0.0,1.0]},\"projection\":{\"type\":\"orthographic\"},\"center\":{}},\"coloraxis\":{\"colorbar\":{\"title\":{\"text\":\"DeathRatePer100K\"}},\"colorscale\":[[0.0,\"rgb(255,245,240)\"],[0.125,\"rgb(254,224,210)\"],[0.25,\"rgb(252,187,161)\"],[0.375,\"rgb(252,146,114)\"],[0.5,\"rgb(251,106,74)\"],[0.625,\"rgb(239,59,44)\"],[0.75,\"rgb(203,24,29)\"],[0.875,\"rgb(165,15,21)\"],[1.0,\"rgb(103,0,13)\"]]},\"legend\":{\"tracegroupgap\":0,\"itemsizing\":\"constant\"},\"title\":{\"text\":\"Global Suicide Rates (per 100K)\"},\"width\":900,\"height\":500},                        {\"responsive\": true}                    ).then(function(){\n",
       "                            \n",
       "var gd = document.getElementById('a2c22ef7-7a95-446f-a51e-0fa91a7e4395');\n",
       "var x = new MutationObserver(function (mutations, observer) {{\n",
       "        var display = window.getComputedStyle(gd).display;\n",
       "        if (!display || display === 'none') {{\n",
       "            console.log([gd, 'removed!']);\n",
       "            Plotly.purge(gd);\n",
       "            observer.disconnect();\n",
       "        }}\n",
       "}});\n",
       "\n",
       "// Listen for the removal of the full notebook cells\n",
       "var notebookContainer = gd.closest('#notebook-container');\n",
       "if (notebookContainer) {{\n",
       "    x.observe(notebookContainer, {childList: true});\n",
       "}}\n",
       "\n",
       "// Listen for the clearing of the current output cell\n",
       "var outputEl = gd.closest('.output');\n",
       "if (outputEl) {{\n",
       "    x.observe(outputEl, {childList: true});\n",
       "}}\n",
       "\n",
       "                        })                };            </script>        </div>"
      ]
     },
     "metadata": {},
     "output_type": "display_data"
    }
   ],
   "source": [
    "import plotly.express as px\n",
    "\n",
    "# Aggregate suicide rates by country\n",
    "df_geo = df.groupby(\"CountryName\").agg({\"DeathRatePer100K\": \"mean\"}).reset_index()\n",
    "\n",
    "# Create the scatter geo plot\n",
    "fig = px.scatter_geo(\n",
    "    df_geo,\n",
    "    locations=\"CountryName\",\n",
    "    locationmode=\"country names\",\n",
    "    size=\"DeathRatePer100K\",\n",
    "    hover_name=\"CountryName\",\n",
    "    color=\"DeathRatePer100K\",\n",
    "    projection=\"orthographic\",  # Different projections: 'equirectangular', 'orthographic', 'mercator'\n",
    "    title=\"Global Suicide Rates (per 100K)\",\n",
    "    color_continuous_scale=\"reds\"\n",
    ")\n",
    "\n",
    "fig.update_traces(marker=dict(sizemode=\"area\", sizeref=1))\n",
    "\n",
    "fig.update_layout(\n",
    "    width=900,  # Set the width\n",
    "    height=500   # Set the height\n",
    ")\n",
    "# Show the plot\n",
    "fig.show()\n",
    "\n",
    "fig.write_image(\"scatter_geo.png\")\n"
   ]
  },
  {
   "cell_type": "markdown",
   "metadata": {},
   "source": [
    "![Alt_Text](scatter_geo.png)\n"
   ]
  },
  {
   "cell_type": "code",
   "execution_count": null,
   "metadata": {},
   "outputs": [
    {
     "name": "stderr",
     "output_type": "stream",
     "text": [
      "c:\\Users\\kunal\\OneDrive\\Desktop\\practice\\.venv\\Lib\\site-packages\\seaborn\\axisgrid.py:1513: UserWarning:\n",
      "\n",
      "Ignoring `palette` because no `hue` variable has been assigned.\n",
      "\n",
      "c:\\Users\\kunal\\OneDrive\\Desktop\\practice\\.venv\\Lib\\site-packages\\seaborn\\axisgrid.py:1513: UserWarning:\n",
      "\n",
      "Ignoring `palette` because no `hue` variable has been assigned.\n",
      "\n",
      "c:\\Users\\kunal\\OneDrive\\Desktop\\practice\\.venv\\Lib\\site-packages\\seaborn\\axisgrid.py:1513: UserWarning:\n",
      "\n",
      "Ignoring `palette` because no `hue` variable has been assigned.\n",
      "\n",
      "c:\\Users\\kunal\\OneDrive\\Desktop\\practice\\.venv\\Lib\\site-packages\\seaborn\\axisgrid.py:1615: UserWarning:\n",
      "\n",
      "Ignoring `palette` because no `hue` variable has been assigned.\n",
      "\n",
      "c:\\Users\\kunal\\OneDrive\\Desktop\\practice\\.venv\\Lib\\site-packages\\seaborn\\axisgrid.py:1615: UserWarning:\n",
      "\n",
      "Ignoring `palette` because no `hue` variable has been assigned.\n",
      "\n",
      "c:\\Users\\kunal\\OneDrive\\Desktop\\practice\\.venv\\Lib\\site-packages\\seaborn\\axisgrid.py:1615: UserWarning:\n",
      "\n",
      "Ignoring `palette` because no `hue` variable has been assigned.\n",
      "\n",
      "c:\\Users\\kunal\\OneDrive\\Desktop\\practice\\.venv\\Lib\\site-packages\\seaborn\\axisgrid.py:1615: UserWarning:\n",
      "\n",
      "Ignoring `palette` because no `hue` variable has been assigned.\n",
      "\n",
      "c:\\Users\\kunal\\OneDrive\\Desktop\\practice\\.venv\\Lib\\site-packages\\seaborn\\axisgrid.py:1615: UserWarning:\n",
      "\n",
      "Ignoring `palette` because no `hue` variable has been assigned.\n",
      "\n",
      "c:\\Users\\kunal\\OneDrive\\Desktop\\practice\\.venv\\Lib\\site-packages\\seaborn\\axisgrid.py:1615: UserWarning:\n",
      "\n",
      "Ignoring `palette` because no `hue` variable has been assigned.\n",
      "\n"
     ]
    },
    {
     "data": {
      "image/png": "[encoded data removed]",
      "text/plain": [
       "<Figure size 750x750 with 12 Axes>"
      ]
     },
     "metadata": {},
     "output_type": "display_data"
    }
   ],
   "source": [
    "import seaborn as sns\n",
    "import matplotlib.pyplot as plt\n",
    "\n",
    "# Select relevant numerical features for correlation analysis\n",
    "selected_features = [\"GDPPerCapita\", \"EmploymentPopulationRatio\", \"DeathRatePer100K\"]\n",
    "\n",
    "# Create a pairplot to visualize relationships\n",
    "sns.pairplot(df[selected_features], diag_kind=\"kde\", palette=\"coolwarm\")\n",
    "plt.show()\n"
   ]
  },
  {
   "cell_type": "code",
   "execution_count": null,
   "metadata": {},
   "outputs": [],
   "source": []
  }
 ],
 "metadata": {
  "kernelspec": {
   "display_name": "Python 3",
   "language": "python",
   "name": "python3"
  },
  "language_info": {
   "codemirror_mode": {
    "name": "ipython",
    "version": 3
   },
   "file_extension": ".py",
   "mimetype": "text/x-python",
   "name": "python",
   "nbconvert_exporter": "python",
   "pygments_lexer": "ipython3",
   "version": "3.10.11"
  }
 },
 "nbformat": 4,
 "nbformat_minor": 2
}
